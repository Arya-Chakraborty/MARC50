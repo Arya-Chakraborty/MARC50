{
 "cells": [
  {
   "cell_type": "code",
   "execution_count": 15,
   "id": "840804df",
   "metadata": {},
   "outputs": [
    {
     "name": "stdout",
     "output_type": "stream",
     "text": [
      "Successfully loaded 100 tree models\n"
     ]
    }
   ],
   "source": [
    "from joblib import load\n",
    "import numpy as np\n",
    "import pandas as pd\n",
    "\n",
    "# Path to the saved tree models\n",
    "tree_path = R'D:\\alok sir\\pkm2\\regression model\\tree_reg_models/'  # Update this path if needed\n",
    "\n",
    "# Load all saved tree models\n",
    "saved_trees = []\n",
    "try:\n",
    "    for i in range(100):  # Assuming you have 100 models as in your bootstrap\n",
    "        tree = load(f'{tree_path}tree_{i}.joblib')\n",
    "        saved_trees.append(tree)\n",
    "    print(f\"Successfully loaded {len(saved_trees)} tree models\")\n",
    "except Exception as e:\n",
    "    print(f\"Error loading models: {str(e)}\")\n",
    "\n",
    "X_test = pd.read_csv(R'D:\\alok sir\\pkm2\\regression model\\AC50\\X_test.csv')\n",
    "\n",
    "# Make predictions with the loaded models if any were loaded successfully\n",
    "if saved_trees:\n",
    "    # Use the same X_test that was used in your original code\n",
    "    all_predictions = []\n",
    "    \n",
    "    for tree in saved_trees:\n",
    "        pred = tree.predict(X_test)\n",
    "        all_predictions.append(pred)\n",
    "    \n",
    "    # Convert to numpy array for easier percentile calculations\n",
    "    all_predictions = np.array(all_predictions)\n",
    "    \n",
    "    # Calculate different confidence intervals\n",
    "    lower_95 = np.percentile(all_predictions, 2.5, axis=0)\n",
    "    upper_95 = np.percentile(all_predictions, 97.5, axis=0)\n",
    "    \n",
    "    lower_75 = np.percentile(all_predictions, 12.5, axis=0)\n",
    "    upper_75 = np.percentile(all_predictions, 87.5, axis=0)\n",
    "    \n",
    "    lower_50 = np.percentile(all_predictions, 25, axis=0)\n",
    "    upper_50 = np.percentile(all_predictions, 75, axis=0)\n",
    "    \n",
    "    # Calculate accuracy for each confidence level\n",
    "\n",
    "else:\n",
    "    print(\"No models were loaded, cannot make predictions.\")"
   ]
  },
  {
   "cell_type": "code",
   "execution_count": 17,
   "id": "e6322b06",
   "metadata": {},
   "outputs": [
    {
     "data": {
      "text/plain": [
       "array([ 132.75,  265.  ,  265.  ,  281.  ,  740.  ,  326.  ,  191.  ,\n",
       "        215.  ,  124.  ,  467.5 ,  153.25,  218.25, 1000.  ,  755.  ,\n",
       "        274.  ,  254.  ,  351.75, 1140.  ,  142.  ,   60.  ])"
      ]
     },
     "execution_count": 17,
     "metadata": {},
     "output_type": "execute_result"
    }
   ],
   "source": [
    "upper_50"
   ]
  }
 ],
 "metadata": {
  "kernelspec": {
   "display_name": "Python 3",
   "language": "python",
   "name": "python3"
  },
  "language_info": {
   "codemirror_mode": {
    "name": "ipython",
    "version": 3
   },
   "file_extension": ".py",
   "mimetype": "text/x-python",
   "name": "python",
   "nbconvert_exporter": "python",
   "pygments_lexer": "ipython3",
   "version": "3.11.3"
  }
 },
 "nbformat": 4,
 "nbformat_minor": 5
}
