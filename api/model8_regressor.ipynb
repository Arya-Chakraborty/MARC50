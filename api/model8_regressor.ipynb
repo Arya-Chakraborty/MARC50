{
 "cells": [
  {
   "cell_type": "code",
   "execution_count": 3,
   "metadata": {},
   "outputs": [],
   "source": [
    "import pandas as pd\n",
    "import numpy as np\n",
    "import matplotlib.pyplot as plt\n",
    "import plotly.express as px\n",
    "from sklearn.preprocessing import StandardScaler, PolynomialFeatures\n",
    "from sklearn.model_selection import train_test_split, cross_val_score, RandomizedSearchCV\n",
    "from sklearn.linear_model import LinearRegression, Lasso, Ridge, ElasticNet\n",
    "from sklearn.metrics import mean_squared_error, mean_absolute_error, r2_score\n",
    "from sklearn.ensemble import RandomForestRegressor\n",
    "from sklearn.tree import DecisionTreeRegressor\n",
    "from sklearn.svm import SVR\n",
    "import statsmodels.api as sm\n",
    "import seaborn as sns\n",
    "from sklearn.neighbors import KNeighborsRegressor\n",
    "from sklearn.pipeline import make_pipeline\n",
    "import os\n",
    "from joblib import dump"
   ]
  },
  {
   "cell_type": "code",
   "execution_count": 4,
   "metadata": {},
   "outputs": [],
   "source": [
    "final_df = pd.read_csv('acdf_cleaned.csv')\n",
    "final_df = final_df[final_df['AC50'] < 10000]"
   ]
  },
  {
   "cell_type": "code",
   "execution_count": 5,
   "metadata": {},
   "outputs": [
    {
     "data": {
      "text/plain": [
       "1190.0"
      ]
     },
     "execution_count": 5,
     "metadata": {},
     "output_type": "execute_result"
    }
   ],
   "source": [
    "max(final_df['AC50'])"
   ]
  },
  {
   "cell_type": "code",
   "execution_count": 6,
   "metadata": {},
   "outputs": [],
   "source": [
    "final_df.dropna(inplace=True)\n",
    "# final_df.T.dropna(inplace=True)\n",
    "final_df.drop_duplicates(inplace=True)\n",
    "final_df = final_df.T.drop_duplicates().T\n",
    "final_df = final_df.T.dropna().T"
   ]
  },
  {
   "cell_type": "code",
   "execution_count": 7,
   "metadata": {},
   "outputs": [],
   "source": [
    "col_names = final_df.columns.tolist()"
   ]
  },
  {
   "cell_type": "code",
   "execution_count": 8,
   "metadata": {},
   "outputs": [],
   "source": [
    "temp = []\n",
    "for i in range(0, len(final_df.columns)):\n",
    "    if final_df[col_names[i]].nunique() < 10:\n",
    "        temp.append(col_names[i])\n",
    "    else:\n",
    "        pass    "
   ]
  },
  {
   "cell_type": "code",
   "execution_count": 9,
   "metadata": {},
   "outputs": [],
   "source": [
    "final_df.drop(columns=temp, inplace=True)"
   ]
  },
  {
   "cell_type": "code",
   "execution_count": 10,
   "metadata": {},
   "outputs": [],
   "source": [
    "\n",
    "# Compute the correlation matrix\n",
    "corr_matrix = final_df.corr().abs()\n",
    "\n",
    "# Select upper triangle of correlation matrix\n",
    "upper = corr_matrix.where(np.triu(np.ones(corr_matrix.shape), k=1).astype(bool))\n",
    "\n",
    "# Find index of feature columns with correlation greater than 0.95\n",
    "to_drop = [column for column in upper.columns if any(upper[column] > 0.85)]\n",
    "\n",
    "# Drop features \n",
    "final_df = final_df.drop(final_df[to_drop], axis=1)"
   ]
  },
  {
   "cell_type": "code",
   "execution_count": 11,
   "metadata": {},
   "outputs": [],
   "source": [
    "from scipy.stats import shapiro\n",
    "import pandas as pd\n",
    "\n",
    "# Create an empty DataFrame to store the results\n",
    "stats, p = [], []\n",
    "# Assuming that `final_df` is a DataFrame\n",
    "for column in final_df.columns:\n",
    "    statistic, p_value = shapiro(final_df[column])\n",
    "    # Append the results to the results DataFrame\n",
    "    stats.append(statistic)\n",
    "    p.append(p_value)\n",
    "# Print the results DataFrame\n",
    "p_df = pd.DataFrame({'Column': final_df.columns, 'Statistic': stats, 'p-value': p})"
   ]
  },
  {
   "cell_type": "code",
   "execution_count": 12,
   "metadata": {},
   "outputs": [],
   "source": [
    "p_df = p_df[p_df['p-value'] > 0.05]"
   ]
  },
  {
   "cell_type": "code",
   "execution_count": 13,
   "metadata": {},
   "outputs": [
    {
     "data": {
      "text/html": [
       "<div>\n",
       "<style scoped>\n",
       "    .dataframe tbody tr th:only-of-type {\n",
       "        vertical-align: middle;\n",
       "    }\n",
       "\n",
       "    .dataframe tbody tr th {\n",
       "        vertical-align: top;\n",
       "    }\n",
       "\n",
       "    .dataframe thead th {\n",
       "        text-align: right;\n",
       "    }\n",
       "</style>\n",
       "<table border=\"1\" class=\"dataframe\">\n",
       "  <thead>\n",
       "    <tr style=\"text-align: right;\">\n",
       "      <th></th>\n",
       "      <th>Column</th>\n",
       "      <th>Statistic</th>\n",
       "      <th>p-value</th>\n",
       "    </tr>\n",
       "  </thead>\n",
       "  <tbody>\n",
       "    <tr>\n",
       "      <th>82</th>\n",
       "      <td>GATS3c</td>\n",
       "      <td>0.994589</td>\n",
       "      <td>0.967165</td>\n",
       "    </tr>\n",
       "    <tr>\n",
       "      <th>12</th>\n",
       "      <td>AATS0v</td>\n",
       "      <td>0.992713</td>\n",
       "      <td>0.881312</td>\n",
       "    </tr>\n",
       "    <tr>\n",
       "      <th>225</th>\n",
       "      <td>AMW</td>\n",
       "      <td>0.991944</td>\n",
       "      <td>0.831274</td>\n",
       "    </tr>\n",
       "    <tr>\n",
       "      <th>198</th>\n",
       "      <td>ETA_dEpsilon_B</td>\n",
       "      <td>0.990464</td>\n",
       "      <td>0.720999</td>\n",
       "    </tr>\n",
       "    <tr>\n",
       "      <th>51</th>\n",
       "      <td>ATSC7v</td>\n",
       "      <td>0.990242</td>\n",
       "      <td>0.703647</td>\n",
       "    </tr>\n",
       "    <tr>\n",
       "      <th>...</th>\n",
       "      <td>...</td>\n",
       "      <td>...</td>\n",
       "      <td>...</td>\n",
       "    </tr>\n",
       "    <tr>\n",
       "      <th>99</th>\n",
       "      <td>GATS7e</td>\n",
       "      <td>0.974980</td>\n",
       "      <td>0.060516</td>\n",
       "    </tr>\n",
       "    <tr>\n",
       "      <th>196</th>\n",
       "      <td>ETA_AlphaP</td>\n",
       "      <td>0.974946</td>\n",
       "      <td>0.060156</td>\n",
       "    </tr>\n",
       "    <tr>\n",
       "      <th>102</th>\n",
       "      <td>GATS5i</td>\n",
       "      <td>0.974208</td>\n",
       "      <td>0.052850</td>\n",
       "    </tr>\n",
       "    <tr>\n",
       "      <th>69</th>\n",
       "      <td>ATSC4i</td>\n",
       "      <td>0.974138</td>\n",
       "      <td>0.052206</td>\n",
       "    </tr>\n",
       "    <tr>\n",
       "      <th>16</th>\n",
       "      <td>AATS8v</td>\n",
       "      <td>0.973932</td>\n",
       "      <td>0.050362</td>\n",
       "    </tr>\n",
       "  </tbody>\n",
       "</table>\n",
       "<p>72 rows × 3 columns</p>\n",
       "</div>"
      ],
      "text/plain": [
       "             Column  Statistic   p-value\n",
       "82           GATS3c   0.994589  0.967165\n",
       "12           AATS0v   0.992713  0.881312\n",
       "225             AMW   0.991944  0.831274\n",
       "198  ETA_dEpsilon_B   0.990464  0.720999\n",
       "51           ATSC7v   0.990242  0.703647\n",
       "..              ...        ...       ...\n",
       "99           GATS7e   0.974980  0.060516\n",
       "196      ETA_AlphaP   0.974946  0.060156\n",
       "102          GATS5i   0.974208  0.052850\n",
       "69           ATSC4i   0.974138  0.052206\n",
       "16           AATS8v   0.973932  0.050362\n",
       "\n",
       "[72 rows x 3 columns]"
      ]
     },
     "execution_count": 13,
     "metadata": {},
     "output_type": "execute_result"
    }
   ],
   "source": [
    "p_df.sort_values(by='p-value', ascending=False, inplace=True)\n",
    "p_df"
   ]
  },
  {
   "cell_type": "code",
   "execution_count": 14,
   "metadata": {},
   "outputs": [],
   "source": [
    "col_names = p_df['Column'].tolist()"
   ]
  },
  {
   "cell_type": "code",
   "execution_count": 15,
   "metadata": {},
   "outputs": [],
   "source": [
    "col_names.remove('AC50_log')"
   ]
  },
  {
   "cell_type": "code",
   "execution_count": 16,
   "metadata": {},
   "outputs": [
    {
     "data": {
      "text/html": [
       "<div>\n",
       "<style scoped>\n",
       "    .dataframe tbody tr th:only-of-type {\n",
       "        vertical-align: middle;\n",
       "    }\n",
       "\n",
       "    .dataframe tbody tr th {\n",
       "        vertical-align: top;\n",
       "    }\n",
       "\n",
       "    .dataframe thead th {\n",
       "        text-align: right;\n",
       "    }\n",
       "</style>\n",
       "<table border=\"1\" class=\"dataframe\">\n",
       "  <thead>\n",
       "    <tr style=\"text-align: right;\">\n",
       "      <th></th>\n",
       "      <th>AMR</th>\n",
       "      <th>ATS6s</th>\n",
       "      <th>AATS6m</th>\n",
       "      <th>AATS7m</th>\n",
       "      <th>AATS8m</th>\n",
       "      <th>AATS0v</th>\n",
       "      <th>AATS5v</th>\n",
       "      <th>AATS6v</th>\n",
       "      <th>AATS8v</th>\n",
       "      <th>AATS6p</th>\n",
       "      <th>...</th>\n",
       "      <th>TDB8e</th>\n",
       "      <th>TDB9e</th>\n",
       "      <th>TDB10e</th>\n",
       "      <th>PPSA-1</th>\n",
       "      <th>PPSA-3</th>\n",
       "      <th>DPSA-1</th>\n",
       "      <th>FPSA-3</th>\n",
       "      <th>Du</th>\n",
       "      <th>E3m</th>\n",
       "      <th>AC50</th>\n",
       "    </tr>\n",
       "  </thead>\n",
       "  <tbody>\n",
       "    <tr>\n",
       "      <th>0</th>\n",
       "      <td>54.1603</td>\n",
       "      <td>228.877315</td>\n",
       "      <td>62.096824</td>\n",
       "      <td>65.982053</td>\n",
       "      <td>61.423930</td>\n",
       "      <td>246.020315</td>\n",
       "      <td>183.601013</td>\n",
       "      <td>192.935061</td>\n",
       "      <td>169.591950</td>\n",
       "      <td>1.428454</td>\n",
       "      <td>...</td>\n",
       "      <td>47.183254</td>\n",
       "      <td>53.586954</td>\n",
       "      <td>58.087568</td>\n",
       "      <td>385.332309</td>\n",
       "      <td>18.102485</td>\n",
       "      <td>82.876531</td>\n",
       "      <td>0.026320</td>\n",
       "      <td>1.309972</td>\n",
       "      <td>0.181561</td>\n",
       "      <td>1190.0</td>\n",
       "    </tr>\n",
       "    <tr>\n",
       "      <th>1</th>\n",
       "      <td>51.4622</td>\n",
       "      <td>24.904321</td>\n",
       "      <td>62.114479</td>\n",
       "      <td>65.649784</td>\n",
       "      <td>67.532721</td>\n",
       "      <td>255.167393</td>\n",
       "      <td>190.386501</td>\n",
       "      <td>181.923574</td>\n",
       "      <td>195.374379</td>\n",
       "      <td>1.360939</td>\n",
       "      <td>...</td>\n",
       "      <td>60.656297</td>\n",
       "      <td>69.376688</td>\n",
       "      <td>77.592298</td>\n",
       "      <td>469.050681</td>\n",
       "      <td>26.657763</td>\n",
       "      <td>220.957792</td>\n",
       "      <td>0.037172</td>\n",
       "      <td>1.422600</td>\n",
       "      <td>0.245171</td>\n",
       "      <td>1140.0</td>\n",
       "    </tr>\n",
       "    <tr>\n",
       "      <th>2</th>\n",
       "      <td>22.8452</td>\n",
       "      <td>213.888889</td>\n",
       "      <td>71.245708</td>\n",
       "      <td>74.376173</td>\n",
       "      <td>70.629692</td>\n",
       "      <td>262.966871</td>\n",
       "      <td>205.578600</td>\n",
       "      <td>208.378578</td>\n",
       "      <td>215.607269</td>\n",
       "      <td>1.471832</td>\n",
       "      <td>...</td>\n",
       "      <td>58.896544</td>\n",
       "      <td>65.068621</td>\n",
       "      <td>69.951583</td>\n",
       "      <td>430.229987</td>\n",
       "      <td>23.057339</td>\n",
       "      <td>182.081343</td>\n",
       "      <td>0.033989</td>\n",
       "      <td>1.426697</td>\n",
       "      <td>0.143930</td>\n",
       "      <td>1030.0</td>\n",
       "    </tr>\n",
       "    <tr>\n",
       "      <th>3</th>\n",
       "      <td>45.8466</td>\n",
       "      <td>23.527778</td>\n",
       "      <td>55.212794</td>\n",
       "      <td>57.174031</td>\n",
       "      <td>59.727384</td>\n",
       "      <td>243.345213</td>\n",
       "      <td>179.938039</td>\n",
       "      <td>174.274802</td>\n",
       "      <td>188.822317</td>\n",
       "      <td>1.296010</td>\n",
       "      <td>...</td>\n",
       "      <td>60.427068</td>\n",
       "      <td>68.790522</td>\n",
       "      <td>76.973462</td>\n",
       "      <td>486.846952</td>\n",
       "      <td>27.173210</td>\n",
       "      <td>262.228281</td>\n",
       "      <td>0.038193</td>\n",
       "      <td>1.415445</td>\n",
       "      <td>0.221797</td>\n",
       "      <td>1000.0</td>\n",
       "    </tr>\n",
       "    <tr>\n",
       "      <th>4</th>\n",
       "      <td>58.4512</td>\n",
       "      <td>449.955247</td>\n",
       "      <td>78.389654</td>\n",
       "      <td>71.263536</td>\n",
       "      <td>75.022236</td>\n",
       "      <td>235.315912</td>\n",
       "      <td>175.644061</td>\n",
       "      <td>178.841071</td>\n",
       "      <td>167.008633</td>\n",
       "      <td>1.318572</td>\n",
       "      <td>...</td>\n",
       "      <td>54.157099</td>\n",
       "      <td>59.053209</td>\n",
       "      <td>58.120319</td>\n",
       "      <td>452.602381</td>\n",
       "      <td>22.560876</td>\n",
       "      <td>227.010021</td>\n",
       "      <td>0.033266</td>\n",
       "      <td>1.272207</td>\n",
       "      <td>0.209074</td>\n",
       "      <td>866.0</td>\n",
       "    </tr>\n",
       "    <tr>\n",
       "      <th>...</th>\n",
       "      <td>...</td>\n",
       "      <td>...</td>\n",
       "      <td>...</td>\n",
       "      <td>...</td>\n",
       "      <td>...</td>\n",
       "      <td>...</td>\n",
       "      <td>...</td>\n",
       "      <td>...</td>\n",
       "      <td>...</td>\n",
       "      <td>...</td>\n",
       "      <td>...</td>\n",
       "      <td>...</td>\n",
       "      <td>...</td>\n",
       "      <td>...</td>\n",
       "      <td>...</td>\n",
       "      <td>...</td>\n",
       "      <td>...</td>\n",
       "      <td>...</td>\n",
       "      <td>...</td>\n",
       "      <td>...</td>\n",
       "      <td>...</td>\n",
       "    </tr>\n",
       "    <tr>\n",
       "      <th>92</th>\n",
       "      <td>35.7083</td>\n",
       "      <td>304.416667</td>\n",
       "      <td>77.655411</td>\n",
       "      <td>67.505082</td>\n",
       "      <td>77.617845</td>\n",
       "      <td>259.335479</td>\n",
       "      <td>195.620645</td>\n",
       "      <td>203.707664</td>\n",
       "      <td>213.196501</td>\n",
       "      <td>1.382874</td>\n",
       "      <td>...</td>\n",
       "      <td>59.427375</td>\n",
       "      <td>62.570470</td>\n",
       "      <td>68.308513</td>\n",
       "      <td>380.689198</td>\n",
       "      <td>20.385711</td>\n",
       "      <td>179.389579</td>\n",
       "      <td>0.035028</td>\n",
       "      <td>1.313951</td>\n",
       "      <td>0.243418</td>\n",
       "      <td>16.0</td>\n",
       "    </tr>\n",
       "    <tr>\n",
       "      <th>93</th>\n",
       "      <td>74.6512</td>\n",
       "      <td>521.016461</td>\n",
       "      <td>84.289515</td>\n",
       "      <td>80.340653</td>\n",
       "      <td>80.058681</td>\n",
       "      <td>264.468053</td>\n",
       "      <td>212.835103</td>\n",
       "      <td>199.623683</td>\n",
       "      <td>177.596435</td>\n",
       "      <td>1.466116</td>\n",
       "      <td>...</td>\n",
       "      <td>55.538316</td>\n",
       "      <td>62.113517</td>\n",
       "      <td>64.054205</td>\n",
       "      <td>475.150279</td>\n",
       "      <td>25.306423</td>\n",
       "      <td>86.971581</td>\n",
       "      <td>0.029313</td>\n",
       "      <td>1.320353</td>\n",
       "      <td>0.126582</td>\n",
       "      <td>14.0</td>\n",
       "    </tr>\n",
       "    <tr>\n",
       "      <th>94</th>\n",
       "      <td>40.1848</td>\n",
       "      <td>318.194444</td>\n",
       "      <td>77.785229</td>\n",
       "      <td>65.071143</td>\n",
       "      <td>62.124289</td>\n",
       "      <td>251.840042</td>\n",
       "      <td>190.549827</td>\n",
       "      <td>208.062639</td>\n",
       "      <td>175.027237</td>\n",
       "      <td>1.414844</td>\n",
       "      <td>...</td>\n",
       "      <td>56.481556</td>\n",
       "      <td>62.974123</td>\n",
       "      <td>67.391812</td>\n",
       "      <td>412.182388</td>\n",
       "      <td>18.593432</td>\n",
       "      <td>211.988438</td>\n",
       "      <td>0.030363</td>\n",
       "      <td>1.269191</td>\n",
       "      <td>0.184499</td>\n",
       "      <td>11.0</td>\n",
       "    </tr>\n",
       "    <tr>\n",
       "      <th>95</th>\n",
       "      <td>44.6556</td>\n",
       "      <td>582.861111</td>\n",
       "      <td>73.287510</td>\n",
       "      <td>70.651487</td>\n",
       "      <td>55.891666</td>\n",
       "      <td>223.235141</td>\n",
       "      <td>193.623676</td>\n",
       "      <td>180.697161</td>\n",
       "      <td>151.340764</td>\n",
       "      <td>1.247007</td>\n",
       "      <td>...</td>\n",
       "      <td>55.275756</td>\n",
       "      <td>62.792771</td>\n",
       "      <td>80.334419</td>\n",
       "      <td>381.129807</td>\n",
       "      <td>26.915241</td>\n",
       "      <td>56.387604</td>\n",
       "      <td>0.038130</td>\n",
       "      <td>1.216235</td>\n",
       "      <td>0.194689</td>\n",
       "      <td>11.0</td>\n",
       "    </tr>\n",
       "    <tr>\n",
       "      <th>96</th>\n",
       "      <td>69.4607</td>\n",
       "      <td>548.572016</td>\n",
       "      <td>89.752419</td>\n",
       "      <td>86.698595</td>\n",
       "      <td>92.277200</td>\n",
       "      <td>269.683642</td>\n",
       "      <td>217.726033</td>\n",
       "      <td>201.765976</td>\n",
       "      <td>194.838658</td>\n",
       "      <td>1.460652</td>\n",
       "      <td>...</td>\n",
       "      <td>62.744048</td>\n",
       "      <td>71.825138</td>\n",
       "      <td>74.831132</td>\n",
       "      <td>503.688703</td>\n",
       "      <td>28.171838</td>\n",
       "      <td>90.844707</td>\n",
       "      <td>0.030737</td>\n",
       "      <td>1.457907</td>\n",
       "      <td>0.202722</td>\n",
       "      <td>3.2</td>\n",
       "    </tr>\n",
       "  </tbody>\n",
       "</table>\n",
       "<p>97 rows × 72 columns</p>\n",
       "</div>"
      ],
      "text/plain": [
       "        AMR       ATS6s     AATS6m     AATS7m     AATS8m      AATS0v  \\\n",
       "0   54.1603  228.877315  62.096824  65.982053  61.423930  246.020315   \n",
       "1   51.4622   24.904321  62.114479  65.649784  67.532721  255.167393   \n",
       "2   22.8452  213.888889  71.245708  74.376173  70.629692  262.966871   \n",
       "3   45.8466   23.527778  55.212794  57.174031  59.727384  243.345213   \n",
       "4   58.4512  449.955247  78.389654  71.263536  75.022236  235.315912   \n",
       "..      ...         ...        ...        ...        ...         ...   \n",
       "92  35.7083  304.416667  77.655411  67.505082  77.617845  259.335479   \n",
       "93  74.6512  521.016461  84.289515  80.340653  80.058681  264.468053   \n",
       "94  40.1848  318.194444  77.785229  65.071143  62.124289  251.840042   \n",
       "95  44.6556  582.861111  73.287510  70.651487  55.891666  223.235141   \n",
       "96  69.4607  548.572016  89.752419  86.698595  92.277200  269.683642   \n",
       "\n",
       "        AATS5v      AATS6v      AATS8v    AATS6p  ...      TDB8e      TDB9e  \\\n",
       "0   183.601013  192.935061  169.591950  1.428454  ...  47.183254  53.586954   \n",
       "1   190.386501  181.923574  195.374379  1.360939  ...  60.656297  69.376688   \n",
       "2   205.578600  208.378578  215.607269  1.471832  ...  58.896544  65.068621   \n",
       "3   179.938039  174.274802  188.822317  1.296010  ...  60.427068  68.790522   \n",
       "4   175.644061  178.841071  167.008633  1.318572  ...  54.157099  59.053209   \n",
       "..         ...         ...         ...       ...  ...        ...        ...   \n",
       "92  195.620645  203.707664  213.196501  1.382874  ...  59.427375  62.570470   \n",
       "93  212.835103  199.623683  177.596435  1.466116  ...  55.538316  62.113517   \n",
       "94  190.549827  208.062639  175.027237  1.414844  ...  56.481556  62.974123   \n",
       "95  193.623676  180.697161  151.340764  1.247007  ...  55.275756  62.792771   \n",
       "96  217.726033  201.765976  194.838658  1.460652  ...  62.744048  71.825138   \n",
       "\n",
       "       TDB10e      PPSA-1     PPSA-3      DPSA-1    FPSA-3        Du  \\\n",
       "0   58.087568  385.332309  18.102485   82.876531  0.026320  1.309972   \n",
       "1   77.592298  469.050681  26.657763  220.957792  0.037172  1.422600   \n",
       "2   69.951583  430.229987  23.057339  182.081343  0.033989  1.426697   \n",
       "3   76.973462  486.846952  27.173210  262.228281  0.038193  1.415445   \n",
       "4   58.120319  452.602381  22.560876  227.010021  0.033266  1.272207   \n",
       "..        ...         ...        ...         ...       ...       ...   \n",
       "92  68.308513  380.689198  20.385711  179.389579  0.035028  1.313951   \n",
       "93  64.054205  475.150279  25.306423   86.971581  0.029313  1.320353   \n",
       "94  67.391812  412.182388  18.593432  211.988438  0.030363  1.269191   \n",
       "95  80.334419  381.129807  26.915241   56.387604  0.038130  1.216235   \n",
       "96  74.831132  503.688703  28.171838   90.844707  0.030737  1.457907   \n",
       "\n",
       "         E3m    AC50  \n",
       "0   0.181561  1190.0  \n",
       "1   0.245171  1140.0  \n",
       "2   0.143930  1030.0  \n",
       "3   0.221797  1000.0  \n",
       "4   0.209074   866.0  \n",
       "..       ...     ...  \n",
       "92  0.243418    16.0  \n",
       "93  0.126582    14.0  \n",
       "94  0.184499    11.0  \n",
       "95  0.194689    11.0  \n",
       "96  0.202722     3.2  \n",
       "\n",
       "[97 rows x 72 columns]"
      ]
     },
     "execution_count": 16,
     "metadata": {},
     "output_type": "execute_result"
    }
   ],
   "source": [
    "normalize_df = pd.read_csv('acdf_cleaned.csv', usecols=col_names + ['AC50'])\n",
    "normalize_df"
   ]
  },
  {
   "cell_type": "code",
   "execution_count": 17,
   "metadata": {},
   "outputs": [],
   "source": [
    "x = normalize_df.drop(columns=['AC50'])\n",
    "y = normalize_df['AC50']\n",
    "\n",
    "x_train, x_test, y_train, y_test = train_test_split(x, y, test_size=0.2, random_state=42)"
   ]
  },
  {
   "cell_type": "code",
   "execution_count": 18,
   "metadata": {},
   "outputs": [
    {
     "data": {
      "text/html": [
       "<div>\n",
       "<style scoped>\n",
       "    .dataframe tbody tr th:only-of-type {\n",
       "        vertical-align: middle;\n",
       "    }\n",
       "\n",
       "    .dataframe tbody tr th {\n",
       "        vertical-align: top;\n",
       "    }\n",
       "\n",
       "    .dataframe thead th {\n",
       "        text-align: right;\n",
       "    }\n",
       "</style>\n",
       "<table border=\"1\" class=\"dataframe\">\n",
       "  <thead>\n",
       "    <tr style=\"text-align: right;\">\n",
       "      <th></th>\n",
       "      <th>AMR</th>\n",
       "      <th>ATS6s</th>\n",
       "      <th>AATS6m</th>\n",
       "      <th>AATS7m</th>\n",
       "      <th>AATS8m</th>\n",
       "      <th>AATS0v</th>\n",
       "      <th>AATS5v</th>\n",
       "      <th>AATS6v</th>\n",
       "      <th>AATS8v</th>\n",
       "      <th>AATS6p</th>\n",
       "      <th>...</th>\n",
       "      <th>TDB6e</th>\n",
       "      <th>TDB8e</th>\n",
       "      <th>TDB9e</th>\n",
       "      <th>TDB10e</th>\n",
       "      <th>PPSA-1</th>\n",
       "      <th>PPSA-3</th>\n",
       "      <th>DPSA-1</th>\n",
       "      <th>FPSA-3</th>\n",
       "      <th>Du</th>\n",
       "      <th>E3m</th>\n",
       "    </tr>\n",
       "  </thead>\n",
       "  <tbody>\n",
       "    <tr>\n",
       "      <th>49</th>\n",
       "      <td>41.2756</td>\n",
       "      <td>318.972222</td>\n",
       "      <td>73.490772</td>\n",
       "      <td>58.416930</td>\n",
       "      <td>55.976995</td>\n",
       "      <td>241.071442</td>\n",
       "      <td>185.159834</td>\n",
       "      <td>201.557369</td>\n",
       "      <td>162.277936</td>\n",
       "      <td>1.390021</td>\n",
       "      <td>...</td>\n",
       "      <td>45.748875</td>\n",
       "      <td>56.599376</td>\n",
       "      <td>63.560022</td>\n",
       "      <td>66.983395</td>\n",
       "      <td>440.070896</td>\n",
       "      <td>22.276273</td>\n",
       "      <td>260.170349</td>\n",
       "      <td>0.035931</td>\n",
       "      <td>1.305291</td>\n",
       "      <td>0.193005</td>\n",
       "    </tr>\n",
       "    <tr>\n",
       "      <th>70</th>\n",
       "      <td>41.4028</td>\n",
       "      <td>336.027778</td>\n",
       "      <td>78.631123</td>\n",
       "      <td>72.641381</td>\n",
       "      <td>73.541955</td>\n",
       "      <td>250.953810</td>\n",
       "      <td>198.179819</td>\n",
       "      <td>201.725987</td>\n",
       "      <td>201.780245</td>\n",
       "      <td>1.357963</td>\n",
       "      <td>...</td>\n",
       "      <td>45.694454</td>\n",
       "      <td>59.401220</td>\n",
       "      <td>62.007734</td>\n",
       "      <td>72.337902</td>\n",
       "      <td>429.374722</td>\n",
       "      <td>21.901366</td>\n",
       "      <td>227.681610</td>\n",
       "      <td>0.034705</td>\n",
       "      <td>1.206398</td>\n",
       "      <td>0.205487</td>\n",
       "    </tr>\n",
       "    <tr>\n",
       "      <th>68</th>\n",
       "      <td>34.3102</td>\n",
       "      <td>161.555556</td>\n",
       "      <td>61.574796</td>\n",
       "      <td>75.172733</td>\n",
       "      <td>60.814357</td>\n",
       "      <td>245.127978</td>\n",
       "      <td>167.563349</td>\n",
       "      <td>188.611958</td>\n",
       "      <td>184.344967</td>\n",
       "      <td>1.371584</td>\n",
       "      <td>...</td>\n",
       "      <td>42.240982</td>\n",
       "      <td>56.611031</td>\n",
       "      <td>62.380021</td>\n",
       "      <td>64.774102</td>\n",
       "      <td>366.711107</td>\n",
       "      <td>14.461677</td>\n",
       "      <td>160.795049</td>\n",
       "      <td>0.025255</td>\n",
       "      <td>1.319753</td>\n",
       "      <td>0.025606</td>\n",
       "    </tr>\n",
       "    <tr>\n",
       "      <th>15</th>\n",
       "      <td>53.7946</td>\n",
       "      <td>281.288580</td>\n",
       "      <td>78.082795</td>\n",
       "      <td>68.727400</td>\n",
       "      <td>74.173580</td>\n",
       "      <td>234.302556</td>\n",
       "      <td>171.727932</td>\n",
       "      <td>174.973454</td>\n",
       "      <td>170.113920</td>\n",
       "      <td>1.360192</td>\n",
       "      <td>...</td>\n",
       "      <td>44.213202</td>\n",
       "      <td>59.370477</td>\n",
       "      <td>65.142148</td>\n",
       "      <td>69.008617</td>\n",
       "      <td>497.147089</td>\n",
       "      <td>24.524367</td>\n",
       "      <td>263.158814</td>\n",
       "      <td>0.033543</td>\n",
       "      <td>1.417953</td>\n",
       "      <td>0.237873</td>\n",
       "    </tr>\n",
       "    <tr>\n",
       "      <th>39</th>\n",
       "      <td>50.3491</td>\n",
       "      <td>362.969136</td>\n",
       "      <td>86.813471</td>\n",
       "      <td>69.930103</td>\n",
       "      <td>91.339690</td>\n",
       "      <td>245.105394</td>\n",
       "      <td>177.235882</td>\n",
       "      <td>185.305606</td>\n",
       "      <td>178.512845</td>\n",
       "      <td>1.340852</td>\n",
       "      <td>...</td>\n",
       "      <td>42.929376</td>\n",
       "      <td>56.150812</td>\n",
       "      <td>65.361131</td>\n",
       "      <td>67.185404</td>\n",
       "      <td>399.991765</td>\n",
       "      <td>21.043534</td>\n",
       "      <td>152.599100</td>\n",
       "      <td>0.032505</td>\n",
       "      <td>1.335077</td>\n",
       "      <td>0.149878</td>\n",
       "    </tr>\n",
       "    <tr>\n",
       "      <th>...</th>\n",
       "      <td>...</td>\n",
       "      <td>...</td>\n",
       "      <td>...</td>\n",
       "      <td>...</td>\n",
       "      <td>...</td>\n",
       "      <td>...</td>\n",
       "      <td>...</td>\n",
       "      <td>...</td>\n",
       "      <td>...</td>\n",
       "      <td>...</td>\n",
       "      <td>...</td>\n",
       "      <td>...</td>\n",
       "      <td>...</td>\n",
       "      <td>...</td>\n",
       "      <td>...</td>\n",
       "      <td>...</td>\n",
       "      <td>...</td>\n",
       "      <td>...</td>\n",
       "      <td>...</td>\n",
       "      <td>...</td>\n",
       "      <td>...</td>\n",
       "    </tr>\n",
       "    <tr>\n",
       "      <th>60</th>\n",
       "      <td>38.2247</td>\n",
       "      <td>288.416667</td>\n",
       "      <td>67.822998</td>\n",
       "      <td>54.262930</td>\n",
       "      <td>53.757790</td>\n",
       "      <td>241.688459</td>\n",
       "      <td>184.755719</td>\n",
       "      <td>196.657818</td>\n",
       "      <td>167.981951</td>\n",
       "      <td>1.393475</td>\n",
       "      <td>...</td>\n",
       "      <td>44.917052</td>\n",
       "      <td>55.962396</td>\n",
       "      <td>62.387595</td>\n",
       "      <td>64.929925</td>\n",
       "      <td>455.152504</td>\n",
       "      <td>18.661787</td>\n",
       "      <td>300.530251</td>\n",
       "      <td>0.030604</td>\n",
       "      <td>1.287919</td>\n",
       "      <td>0.211964</td>\n",
       "    </tr>\n",
       "    <tr>\n",
       "      <th>71</th>\n",
       "      <td>44.6220</td>\n",
       "      <td>386.154321</td>\n",
       "      <td>86.249274</td>\n",
       "      <td>70.430672</td>\n",
       "      <td>107.316730</td>\n",
       "      <td>249.175352</td>\n",
       "      <td>183.146848</td>\n",
       "      <td>187.805955</td>\n",
       "      <td>169.996437</td>\n",
       "      <td>1.318867</td>\n",
       "      <td>...</td>\n",
       "      <td>42.868627</td>\n",
       "      <td>53.595552</td>\n",
       "      <td>70.522092</td>\n",
       "      <td>68.121586</td>\n",
       "      <td>351.688698</td>\n",
       "      <td>19.851150</td>\n",
       "      <td>101.395181</td>\n",
       "      <td>0.032976</td>\n",
       "      <td>1.226873</td>\n",
       "      <td>0.116547</td>\n",
       "    </tr>\n",
       "    <tr>\n",
       "      <th>14</th>\n",
       "      <td>40.7090</td>\n",
       "      <td>238.416667</td>\n",
       "      <td>65.980689</td>\n",
       "      <td>57.912233</td>\n",
       "      <td>82.042138</td>\n",
       "      <td>248.986472</td>\n",
       "      <td>183.938579</td>\n",
       "      <td>194.537490</td>\n",
       "      <td>213.039471</td>\n",
       "      <td>1.383616</td>\n",
       "      <td>...</td>\n",
       "      <td>45.279878</td>\n",
       "      <td>61.096073</td>\n",
       "      <td>66.439147</td>\n",
       "      <td>73.193384</td>\n",
       "      <td>415.156822</td>\n",
       "      <td>31.258461</td>\n",
       "      <td>133.164046</td>\n",
       "      <td>0.044838</td>\n",
       "      <td>1.305478</td>\n",
       "      <td>0.277384</td>\n",
       "    </tr>\n",
       "    <tr>\n",
       "      <th>92</th>\n",
       "      <td>35.7083</td>\n",
       "      <td>304.416667</td>\n",
       "      <td>77.655411</td>\n",
       "      <td>67.505082</td>\n",
       "      <td>77.617845</td>\n",
       "      <td>259.335479</td>\n",
       "      <td>195.620645</td>\n",
       "      <td>203.707664</td>\n",
       "      <td>213.196501</td>\n",
       "      <td>1.382874</td>\n",
       "      <td>...</td>\n",
       "      <td>45.622699</td>\n",
       "      <td>59.427375</td>\n",
       "      <td>62.570470</td>\n",
       "      <td>68.308513</td>\n",
       "      <td>380.689198</td>\n",
       "      <td>20.385711</td>\n",
       "      <td>179.389579</td>\n",
       "      <td>0.035028</td>\n",
       "      <td>1.313951</td>\n",
       "      <td>0.243418</td>\n",
       "    </tr>\n",
       "    <tr>\n",
       "      <th>51</th>\n",
       "      <td>39.8900</td>\n",
       "      <td>201.029835</td>\n",
       "      <td>69.409858</td>\n",
       "      <td>68.519855</td>\n",
       "      <td>71.400221</td>\n",
       "      <td>256.994079</td>\n",
       "      <td>191.856649</td>\n",
       "      <td>194.114714</td>\n",
       "      <td>206.664454</td>\n",
       "      <td>1.429359</td>\n",
       "      <td>...</td>\n",
       "      <td>44.518024</td>\n",
       "      <td>58.090048</td>\n",
       "      <td>60.064446</td>\n",
       "      <td>66.272553</td>\n",
       "      <td>381.377207</td>\n",
       "      <td>16.383049</td>\n",
       "      <td>156.930702</td>\n",
       "      <td>0.027043</td>\n",
       "      <td>1.324684</td>\n",
       "      <td>0.269740</td>\n",
       "    </tr>\n",
       "  </tbody>\n",
       "</table>\n",
       "<p>77 rows × 71 columns</p>\n",
       "</div>"
      ],
      "text/plain": [
       "        AMR       ATS6s     AATS6m     AATS7m      AATS8m      AATS0v  \\\n",
       "49  41.2756  318.972222  73.490772  58.416930   55.976995  241.071442   \n",
       "70  41.4028  336.027778  78.631123  72.641381   73.541955  250.953810   \n",
       "68  34.3102  161.555556  61.574796  75.172733   60.814357  245.127978   \n",
       "15  53.7946  281.288580  78.082795  68.727400   74.173580  234.302556   \n",
       "39  50.3491  362.969136  86.813471  69.930103   91.339690  245.105394   \n",
       "..      ...         ...        ...        ...         ...         ...   \n",
       "60  38.2247  288.416667  67.822998  54.262930   53.757790  241.688459   \n",
       "71  44.6220  386.154321  86.249274  70.430672  107.316730  249.175352   \n",
       "14  40.7090  238.416667  65.980689  57.912233   82.042138  248.986472   \n",
       "92  35.7083  304.416667  77.655411  67.505082   77.617845  259.335479   \n",
       "51  39.8900  201.029835  69.409858  68.519855   71.400221  256.994079   \n",
       "\n",
       "        AATS5v      AATS6v      AATS8v    AATS6p  ...      TDB6e      TDB8e  \\\n",
       "49  185.159834  201.557369  162.277936  1.390021  ...  45.748875  56.599376   \n",
       "70  198.179819  201.725987  201.780245  1.357963  ...  45.694454  59.401220   \n",
       "68  167.563349  188.611958  184.344967  1.371584  ...  42.240982  56.611031   \n",
       "15  171.727932  174.973454  170.113920  1.360192  ...  44.213202  59.370477   \n",
       "39  177.235882  185.305606  178.512845  1.340852  ...  42.929376  56.150812   \n",
       "..         ...         ...         ...       ...  ...        ...        ...   \n",
       "60  184.755719  196.657818  167.981951  1.393475  ...  44.917052  55.962396   \n",
       "71  183.146848  187.805955  169.996437  1.318867  ...  42.868627  53.595552   \n",
       "14  183.938579  194.537490  213.039471  1.383616  ...  45.279878  61.096073   \n",
       "92  195.620645  203.707664  213.196501  1.382874  ...  45.622699  59.427375   \n",
       "51  191.856649  194.114714  206.664454  1.429359  ...  44.518024  58.090048   \n",
       "\n",
       "        TDB9e     TDB10e      PPSA-1     PPSA-3      DPSA-1    FPSA-3  \\\n",
       "49  63.560022  66.983395  440.070896  22.276273  260.170349  0.035931   \n",
       "70  62.007734  72.337902  429.374722  21.901366  227.681610  0.034705   \n",
       "68  62.380021  64.774102  366.711107  14.461677  160.795049  0.025255   \n",
       "15  65.142148  69.008617  497.147089  24.524367  263.158814  0.033543   \n",
       "39  65.361131  67.185404  399.991765  21.043534  152.599100  0.032505   \n",
       "..        ...        ...         ...        ...         ...       ...   \n",
       "60  62.387595  64.929925  455.152504  18.661787  300.530251  0.030604   \n",
       "71  70.522092  68.121586  351.688698  19.851150  101.395181  0.032976   \n",
       "14  66.439147  73.193384  415.156822  31.258461  133.164046  0.044838   \n",
       "92  62.570470  68.308513  380.689198  20.385711  179.389579  0.035028   \n",
       "51  60.064446  66.272553  381.377207  16.383049  156.930702  0.027043   \n",
       "\n",
       "          Du       E3m  \n",
       "49  1.305291  0.193005  \n",
       "70  1.206398  0.205487  \n",
       "68  1.319753  0.025606  \n",
       "15  1.417953  0.237873  \n",
       "39  1.335077  0.149878  \n",
       "..       ...       ...  \n",
       "60  1.287919  0.211964  \n",
       "71  1.226873  0.116547  \n",
       "14  1.305478  0.277384  \n",
       "92  1.313951  0.243418  \n",
       "51  1.324684  0.269740  \n",
       "\n",
       "[77 rows x 71 columns]"
      ]
     },
     "execution_count": 18,
     "metadata": {},
     "output_type": "execute_result"
    }
   ],
   "source": [
    "x_train"
   ]
  },
  {
   "cell_type": "code",
   "execution_count": 17,
   "metadata": {},
   "outputs": [],
   "source": [
    "# scaler = StandardScaler()\n",
    "# x = scaler.fit_transform(x)\n",
    "# x = pd.DataFrame(x, columns=cols)\n",
    "# xtrain, xtest, ytrain, ytest = train_test_split(x, y, test_size=0.2, random_state=42)"
   ]
  },
  {
   "cell_type": "code",
   "execution_count": 18,
   "metadata": {},
   "outputs": [],
   "source": [
    "# import statsmodels.api as sm\n",
    "\n",
    "# # Assuming that X is your matrix of predictors and y is your response variable\n",
    "# # Add a constant to the predictors matrix\n",
    "# x_train = sm.add_constant(x_train)\n",
    "\n",
    "# # Fit the model\n",
    "# model = sm.OLS(y_train, x_train)\n",
    "# results = model.fit()\n",
    "\n",
    "# # Print the summary of the model, which includes the hypothesis test results for each predictor\n",
    "# print(results.summary())"
   ]
  },
  {
   "cell_type": "code",
   "execution_count": 19,
   "metadata": {},
   "outputs": [],
   "source": [
    "# results.pvalues[results.pvalues < 0.05]"
   ]
  },
  {
   "cell_type": "code",
   "execution_count": 20,
   "metadata": {},
   "outputs": [],
   "source": [
    "# final_df.to_csv('acdf_model8_regressor.csv', index=False)"
   ]
  },
  {
   "cell_type": "code",
   "execution_count": 19,
   "metadata": {},
   "outputs": [
    {
     "name": "stdout",
     "output_type": "stream",
     "text": [
      "Features sorted by importance:\n",
      "Index(['MATS5s', 'AATS5i', 'JGI3', 'ATS6s', 'JGI10', 'Du', 'ATSC3v', 'ATSC4i',\n",
      "       'BCUTp-1l', 'SwHBa', 'GATS4c', 'TDB10e', 'AMR', 'AATS2i', 'GATS7e',\n",
      "       'PPSA-1', 'FPSA-3', 'GATS7c', 'ATSC2p', 'ATSC5v', 'JGI9', 'TDB9e',\n",
      "       'GATS2e', 'ATSC3p', 'GATS6i', 'GATS8m', 'GATS6m', 'GATS5s', 'AATS0v',\n",
      "       'AATS6m', 'TDB6e', 'GATS8s', 'ATSC5p', 'AATS7i', 'GATS8c', 'TDB2u',\n",
      "       'AATS5v', 'MIC1', 'ATSC6v', 'ATSC3i', 'ASP-0', 'AATS6p', 'GATS5m',\n",
      "       'GATS7m', 'ATSC6p', 'GATS3c', 'AATS8v', 'AATS7m', 'TDB1u', 'E3m',\n",
      "       'TDB8e', 'DPSA-1', 'SpMin4_Bhm', 'TDB5e', 'PPSA-3', 'ATSC1e', 'GATS3v',\n",
      "       'GATS5i', 'GATS6c', 'TDB10m', 'ATSC5m', 'AATS3i', 'ETA_dEpsilon_B',\n",
      "       'SaasC', 'AMW', 'ATSC7v', 'ATSC5c', 'XLogP', 'AATS8m', 'AATS6v',\n",
      "       'ETA_AlphaP'],\n",
      "      dtype='object')\n"
     ]
    }
   ],
   "source": [
    "# Create a Linear Regression model\n",
    "dt = RandomForestRegressor()\n",
    "\n",
    "# Fit the model\n",
    "dt.fit(x_train, y_train)\n",
    "\n",
    "# Get feature importances\n",
    "importances = dt.feature_importances_\n",
    "\n",
    "# Get the indices of the features sorted by importance\n",
    "indices = np.argsort(np.abs(importances))[::-1]\n",
    "\n",
    "# Get the names of the features sorted by importance\n",
    "feature_names = x.columns[indices]\n",
    "\n",
    "print('Features sorted by importance:')\n",
    "print(feature_names)\n",
    "feature_names = list(feature_names)"
   ]
  },
  {
   "cell_type": "code",
   "execution_count": 23,
   "metadata": {},
   "outputs": [
    {
     "data": {
      "text/plain": [
       "['MATS5s',\n",
       " 'AATS5i',\n",
       " 'JGI3',\n",
       " 'ATS6s',\n",
       " 'JGI10',\n",
       " 'Du',\n",
       " 'ATSC3v',\n",
       " 'ATSC4i',\n",
       " 'BCUTp-1l',\n",
       " 'SwHBa',\n",
       " 'GATS4c',\n",
       " 'TDB10e',\n",
       " 'AMR',\n",
       " 'AATS2i',\n",
       " 'GATS7e',\n",
       " 'PPSA-1',\n",
       " 'FPSA-3',\n",
       " 'GATS7c',\n",
       " 'ATSC2p',\n",
       " 'ATSC5v',\n",
       " 'JGI9',\n",
       " 'TDB9e',\n",
       " 'GATS2e',\n",
       " 'ATSC3p',\n",
       " 'GATS6i',\n",
       " 'GATS8m',\n",
       " 'GATS6m',\n",
       " 'GATS5s',\n",
       " 'AATS0v',\n",
       " 'AATS6m',\n",
       " 'TDB6e',\n",
       " 'GATS8s',\n",
       " 'ATSC5p',\n",
       " 'AATS7i',\n",
       " 'GATS8c',\n",
       " 'TDB2u',\n",
       " 'AATS5v',\n",
       " 'MIC1',\n",
       " 'ATSC6v',\n",
       " 'ATSC3i',\n",
       " 'ASP-0',\n",
       " 'AATS6p',\n",
       " 'GATS5m',\n",
       " 'GATS7m',\n",
       " 'ATSC6p',\n",
       " 'GATS3c',\n",
       " 'AATS8v',\n",
       " 'AATS7m',\n",
       " 'TDB1u',\n",
       " 'E3m',\n",
       " 'TDB8e',\n",
       " 'DPSA-1',\n",
       " 'SpMin4_Bhm',\n",
       " 'TDB5e',\n",
       " 'PPSA-3',\n",
       " 'ATSC1e',\n",
       " 'GATS3v',\n",
       " 'GATS5i',\n",
       " 'GATS6c',\n",
       " 'TDB10m',\n",
       " 'ATSC5m',\n",
       " 'AATS3i',\n",
       " 'ETA_dEpsilon_B',\n",
       " 'SaasC',\n",
       " 'AMW',\n",
       " 'ATSC7v',\n",
       " 'ATSC5c',\n",
       " 'XLogP',\n",
       " 'AATS8m',\n",
       " 'AATS6v',\n",
       " 'ETA_AlphaP']"
      ]
     },
     "execution_count": 23,
     "metadata": {},
     "output_type": "execute_result"
    }
   ],
   "source": [
    "feature_names "
   ]
  },
  {
   "cell_type": "code",
   "execution_count": 20,
   "metadata": {},
   "outputs": [
    {
     "data": {
      "text/html": [
       "<div>\n",
       "<style scoped>\n",
       "    .dataframe tbody tr th:only-of-type {\n",
       "        vertical-align: middle;\n",
       "    }\n",
       "\n",
       "    .dataframe tbody tr th {\n",
       "        vertical-align: top;\n",
       "    }\n",
       "\n",
       "    .dataframe thead th {\n",
       "        text-align: right;\n",
       "    }\n",
       "</style>\n",
       "<table border=\"1\" class=\"dataframe\">\n",
       "  <thead>\n",
       "    <tr style=\"text-align: right;\">\n",
       "      <th></th>\n",
       "      <th>AMR</th>\n",
       "      <th>ATS6s</th>\n",
       "      <th>AATS6m</th>\n",
       "      <th>AATS7m</th>\n",
       "      <th>AATS8m</th>\n",
       "      <th>AATS0v</th>\n",
       "      <th>AATS5v</th>\n",
       "      <th>AATS6v</th>\n",
       "      <th>AATS8v</th>\n",
       "      <th>AATS6p</th>\n",
       "      <th>...</th>\n",
       "      <th>TDB8e</th>\n",
       "      <th>TDB9e</th>\n",
       "      <th>TDB10e</th>\n",
       "      <th>PPSA-1</th>\n",
       "      <th>PPSA-3</th>\n",
       "      <th>DPSA-1</th>\n",
       "      <th>FPSA-3</th>\n",
       "      <th>Du</th>\n",
       "      <th>E3m</th>\n",
       "      <th>AC50</th>\n",
       "    </tr>\n",
       "  </thead>\n",
       "  <tbody>\n",
       "    <tr>\n",
       "      <th>0</th>\n",
       "      <td>54.1603</td>\n",
       "      <td>228.877315</td>\n",
       "      <td>62.096824</td>\n",
       "      <td>65.982053</td>\n",
       "      <td>61.423930</td>\n",
       "      <td>246.020315</td>\n",
       "      <td>183.601013</td>\n",
       "      <td>192.935061</td>\n",
       "      <td>169.591950</td>\n",
       "      <td>1.428454</td>\n",
       "      <td>...</td>\n",
       "      <td>47.183254</td>\n",
       "      <td>53.586954</td>\n",
       "      <td>58.087568</td>\n",
       "      <td>385.332309</td>\n",
       "      <td>18.102485</td>\n",
       "      <td>82.876531</td>\n",
       "      <td>0.026320</td>\n",
       "      <td>1.309972</td>\n",
       "      <td>0.181561</td>\n",
       "      <td>1190.0</td>\n",
       "    </tr>\n",
       "    <tr>\n",
       "      <th>1</th>\n",
       "      <td>51.4622</td>\n",
       "      <td>24.904321</td>\n",
       "      <td>62.114479</td>\n",
       "      <td>65.649784</td>\n",
       "      <td>67.532721</td>\n",
       "      <td>255.167393</td>\n",
       "      <td>190.386501</td>\n",
       "      <td>181.923574</td>\n",
       "      <td>195.374379</td>\n",
       "      <td>1.360939</td>\n",
       "      <td>...</td>\n",
       "      <td>60.656297</td>\n",
       "      <td>69.376688</td>\n",
       "      <td>77.592298</td>\n",
       "      <td>469.050681</td>\n",
       "      <td>26.657763</td>\n",
       "      <td>220.957792</td>\n",
       "      <td>0.037172</td>\n",
       "      <td>1.422600</td>\n",
       "      <td>0.245171</td>\n",
       "      <td>1140.0</td>\n",
       "    </tr>\n",
       "    <tr>\n",
       "      <th>2</th>\n",
       "      <td>22.8452</td>\n",
       "      <td>213.888889</td>\n",
       "      <td>71.245708</td>\n",
       "      <td>74.376173</td>\n",
       "      <td>70.629692</td>\n",
       "      <td>262.966871</td>\n",
       "      <td>205.578600</td>\n",
       "      <td>208.378578</td>\n",
       "      <td>215.607269</td>\n",
       "      <td>1.471832</td>\n",
       "      <td>...</td>\n",
       "      <td>58.896544</td>\n",
       "      <td>65.068621</td>\n",
       "      <td>69.951583</td>\n",
       "      <td>430.229987</td>\n",
       "      <td>23.057339</td>\n",
       "      <td>182.081343</td>\n",
       "      <td>0.033989</td>\n",
       "      <td>1.426697</td>\n",
       "      <td>0.143930</td>\n",
       "      <td>1030.0</td>\n",
       "    </tr>\n",
       "    <tr>\n",
       "      <th>3</th>\n",
       "      <td>45.8466</td>\n",
       "      <td>23.527778</td>\n",
       "      <td>55.212794</td>\n",
       "      <td>57.174031</td>\n",
       "      <td>59.727384</td>\n",
       "      <td>243.345213</td>\n",
       "      <td>179.938039</td>\n",
       "      <td>174.274802</td>\n",
       "      <td>188.822317</td>\n",
       "      <td>1.296010</td>\n",
       "      <td>...</td>\n",
       "      <td>60.427068</td>\n",
       "      <td>68.790522</td>\n",
       "      <td>76.973462</td>\n",
       "      <td>486.846952</td>\n",
       "      <td>27.173210</td>\n",
       "      <td>262.228281</td>\n",
       "      <td>0.038193</td>\n",
       "      <td>1.415445</td>\n",
       "      <td>0.221797</td>\n",
       "      <td>1000.0</td>\n",
       "    </tr>\n",
       "    <tr>\n",
       "      <th>4</th>\n",
       "      <td>58.4512</td>\n",
       "      <td>449.955247</td>\n",
       "      <td>78.389654</td>\n",
       "      <td>71.263536</td>\n",
       "      <td>75.022236</td>\n",
       "      <td>235.315912</td>\n",
       "      <td>175.644061</td>\n",
       "      <td>178.841071</td>\n",
       "      <td>167.008633</td>\n",
       "      <td>1.318572</td>\n",
       "      <td>...</td>\n",
       "      <td>54.157099</td>\n",
       "      <td>59.053209</td>\n",
       "      <td>58.120319</td>\n",
       "      <td>452.602381</td>\n",
       "      <td>22.560876</td>\n",
       "      <td>227.010021</td>\n",
       "      <td>0.033266</td>\n",
       "      <td>1.272207</td>\n",
       "      <td>0.209074</td>\n",
       "      <td>866.0</td>\n",
       "    </tr>\n",
       "    <tr>\n",
       "      <th>...</th>\n",
       "      <td>...</td>\n",
       "      <td>...</td>\n",
       "      <td>...</td>\n",
       "      <td>...</td>\n",
       "      <td>...</td>\n",
       "      <td>...</td>\n",
       "      <td>...</td>\n",
       "      <td>...</td>\n",
       "      <td>...</td>\n",
       "      <td>...</td>\n",
       "      <td>...</td>\n",
       "      <td>...</td>\n",
       "      <td>...</td>\n",
       "      <td>...</td>\n",
       "      <td>...</td>\n",
       "      <td>...</td>\n",
       "      <td>...</td>\n",
       "      <td>...</td>\n",
       "      <td>...</td>\n",
       "      <td>...</td>\n",
       "      <td>...</td>\n",
       "    </tr>\n",
       "    <tr>\n",
       "      <th>92</th>\n",
       "      <td>35.7083</td>\n",
       "      <td>304.416667</td>\n",
       "      <td>77.655411</td>\n",
       "      <td>67.505082</td>\n",
       "      <td>77.617845</td>\n",
       "      <td>259.335479</td>\n",
       "      <td>195.620645</td>\n",
       "      <td>203.707664</td>\n",
       "      <td>213.196501</td>\n",
       "      <td>1.382874</td>\n",
       "      <td>...</td>\n",
       "      <td>59.427375</td>\n",
       "      <td>62.570470</td>\n",
       "      <td>68.308513</td>\n",
       "      <td>380.689198</td>\n",
       "      <td>20.385711</td>\n",
       "      <td>179.389579</td>\n",
       "      <td>0.035028</td>\n",
       "      <td>1.313951</td>\n",
       "      <td>0.243418</td>\n",
       "      <td>16.0</td>\n",
       "    </tr>\n",
       "    <tr>\n",
       "      <th>93</th>\n",
       "      <td>74.6512</td>\n",
       "      <td>521.016461</td>\n",
       "      <td>84.289515</td>\n",
       "      <td>80.340653</td>\n",
       "      <td>80.058681</td>\n",
       "      <td>264.468053</td>\n",
       "      <td>212.835103</td>\n",
       "      <td>199.623683</td>\n",
       "      <td>177.596435</td>\n",
       "      <td>1.466116</td>\n",
       "      <td>...</td>\n",
       "      <td>55.538316</td>\n",
       "      <td>62.113517</td>\n",
       "      <td>64.054205</td>\n",
       "      <td>475.150279</td>\n",
       "      <td>25.306423</td>\n",
       "      <td>86.971581</td>\n",
       "      <td>0.029313</td>\n",
       "      <td>1.320353</td>\n",
       "      <td>0.126582</td>\n",
       "      <td>14.0</td>\n",
       "    </tr>\n",
       "    <tr>\n",
       "      <th>94</th>\n",
       "      <td>40.1848</td>\n",
       "      <td>318.194444</td>\n",
       "      <td>77.785229</td>\n",
       "      <td>65.071143</td>\n",
       "      <td>62.124289</td>\n",
       "      <td>251.840042</td>\n",
       "      <td>190.549827</td>\n",
       "      <td>208.062639</td>\n",
       "      <td>175.027237</td>\n",
       "      <td>1.414844</td>\n",
       "      <td>...</td>\n",
       "      <td>56.481556</td>\n",
       "      <td>62.974123</td>\n",
       "      <td>67.391812</td>\n",
       "      <td>412.182388</td>\n",
       "      <td>18.593432</td>\n",
       "      <td>211.988438</td>\n",
       "      <td>0.030363</td>\n",
       "      <td>1.269191</td>\n",
       "      <td>0.184499</td>\n",
       "      <td>11.0</td>\n",
       "    </tr>\n",
       "    <tr>\n",
       "      <th>95</th>\n",
       "      <td>44.6556</td>\n",
       "      <td>582.861111</td>\n",
       "      <td>73.287510</td>\n",
       "      <td>70.651487</td>\n",
       "      <td>55.891666</td>\n",
       "      <td>223.235141</td>\n",
       "      <td>193.623676</td>\n",
       "      <td>180.697161</td>\n",
       "      <td>151.340764</td>\n",
       "      <td>1.247007</td>\n",
       "      <td>...</td>\n",
       "      <td>55.275756</td>\n",
       "      <td>62.792771</td>\n",
       "      <td>80.334419</td>\n",
       "      <td>381.129807</td>\n",
       "      <td>26.915241</td>\n",
       "      <td>56.387604</td>\n",
       "      <td>0.038130</td>\n",
       "      <td>1.216235</td>\n",
       "      <td>0.194689</td>\n",
       "      <td>11.0</td>\n",
       "    </tr>\n",
       "    <tr>\n",
       "      <th>96</th>\n",
       "      <td>69.4607</td>\n",
       "      <td>548.572016</td>\n",
       "      <td>89.752419</td>\n",
       "      <td>86.698595</td>\n",
       "      <td>92.277200</td>\n",
       "      <td>269.683642</td>\n",
       "      <td>217.726033</td>\n",
       "      <td>201.765976</td>\n",
       "      <td>194.838658</td>\n",
       "      <td>1.460652</td>\n",
       "      <td>...</td>\n",
       "      <td>62.744048</td>\n",
       "      <td>71.825138</td>\n",
       "      <td>74.831132</td>\n",
       "      <td>503.688703</td>\n",
       "      <td>28.171838</td>\n",
       "      <td>90.844707</td>\n",
       "      <td>0.030737</td>\n",
       "      <td>1.457907</td>\n",
       "      <td>0.202722</td>\n",
       "      <td>3.2</td>\n",
       "    </tr>\n",
       "  </tbody>\n",
       "</table>\n",
       "<p>97 rows × 72 columns</p>\n",
       "</div>"
      ],
      "text/plain": [
       "        AMR       ATS6s     AATS6m     AATS7m     AATS8m      AATS0v  \\\n",
       "0   54.1603  228.877315  62.096824  65.982053  61.423930  246.020315   \n",
       "1   51.4622   24.904321  62.114479  65.649784  67.532721  255.167393   \n",
       "2   22.8452  213.888889  71.245708  74.376173  70.629692  262.966871   \n",
       "3   45.8466   23.527778  55.212794  57.174031  59.727384  243.345213   \n",
       "4   58.4512  449.955247  78.389654  71.263536  75.022236  235.315912   \n",
       "..      ...         ...        ...        ...        ...         ...   \n",
       "92  35.7083  304.416667  77.655411  67.505082  77.617845  259.335479   \n",
       "93  74.6512  521.016461  84.289515  80.340653  80.058681  264.468053   \n",
       "94  40.1848  318.194444  77.785229  65.071143  62.124289  251.840042   \n",
       "95  44.6556  582.861111  73.287510  70.651487  55.891666  223.235141   \n",
       "96  69.4607  548.572016  89.752419  86.698595  92.277200  269.683642   \n",
       "\n",
       "        AATS5v      AATS6v      AATS8v    AATS6p  ...      TDB8e      TDB9e  \\\n",
       "0   183.601013  192.935061  169.591950  1.428454  ...  47.183254  53.586954   \n",
       "1   190.386501  181.923574  195.374379  1.360939  ...  60.656297  69.376688   \n",
       "2   205.578600  208.378578  215.607269  1.471832  ...  58.896544  65.068621   \n",
       "3   179.938039  174.274802  188.822317  1.296010  ...  60.427068  68.790522   \n",
       "4   175.644061  178.841071  167.008633  1.318572  ...  54.157099  59.053209   \n",
       "..         ...         ...         ...       ...  ...        ...        ...   \n",
       "92  195.620645  203.707664  213.196501  1.382874  ...  59.427375  62.570470   \n",
       "93  212.835103  199.623683  177.596435  1.466116  ...  55.538316  62.113517   \n",
       "94  190.549827  208.062639  175.027237  1.414844  ...  56.481556  62.974123   \n",
       "95  193.623676  180.697161  151.340764  1.247007  ...  55.275756  62.792771   \n",
       "96  217.726033  201.765976  194.838658  1.460652  ...  62.744048  71.825138   \n",
       "\n",
       "       TDB10e      PPSA-1     PPSA-3      DPSA-1    FPSA-3        Du  \\\n",
       "0   58.087568  385.332309  18.102485   82.876531  0.026320  1.309972   \n",
       "1   77.592298  469.050681  26.657763  220.957792  0.037172  1.422600   \n",
       "2   69.951583  430.229987  23.057339  182.081343  0.033989  1.426697   \n",
       "3   76.973462  486.846952  27.173210  262.228281  0.038193  1.415445   \n",
       "4   58.120319  452.602381  22.560876  227.010021  0.033266  1.272207   \n",
       "..        ...         ...        ...         ...       ...       ...   \n",
       "92  68.308513  380.689198  20.385711  179.389579  0.035028  1.313951   \n",
       "93  64.054205  475.150279  25.306423   86.971581  0.029313  1.320353   \n",
       "94  67.391812  412.182388  18.593432  211.988438  0.030363  1.269191   \n",
       "95  80.334419  381.129807  26.915241   56.387604  0.038130  1.216235   \n",
       "96  74.831132  503.688703  28.171838   90.844707  0.030737  1.457907   \n",
       "\n",
       "         E3m    AC50  \n",
       "0   0.181561  1190.0  \n",
       "1   0.245171  1140.0  \n",
       "2   0.143930  1030.0  \n",
       "3   0.221797  1000.0  \n",
       "4   0.209074   866.0  \n",
       "..       ...     ...  \n",
       "92  0.243418    16.0  \n",
       "93  0.126582    14.0  \n",
       "94  0.184499    11.0  \n",
       "95  0.194689    11.0  \n",
       "96  0.202722     3.2  \n",
       "\n",
       "[97 rows x 72 columns]"
      ]
     },
     "execution_count": 20,
     "metadata": {},
     "output_type": "execute_result"
    }
   ],
   "source": [
    "test = pd.read_csv('acdf_cleaned.csv', usecols=feature_names + ['AC50'])\n",
    "test"
   ]
  },
  {
   "cell_type": "code",
   "execution_count": 23,
   "metadata": {},
   "outputs": [
    {
     "name": "stdout",
     "output_type": "stream",
     "text": [
      "1 0.45\n",
      "2 0.65\n",
      "3 0.65\n",
      "4 0.7\n",
      "5 0.7\n",
      "6 0.55\n",
      "7 0.6\n",
      "8 0.6\n",
      "9 0.65\n",
      "10 0.55\n",
      "11 0.65\n",
      "12 0.6\n",
      "13 0.7\n",
      "14 0.65\n",
      "15 0.75\n",
      "16 0.7\n",
      "17 0.65\n",
      "18 0.7\n",
      "19 0.6\n",
      "20 0.65\n",
      "21 0.7\n",
      "22 0.7\n",
      "23 0.75\n",
      "24 0.7\n",
      "25 0.75\n",
      "26 0.6\n",
      "27 0.75\n",
      "28 0.6\n",
      "29 0.7\n",
      "30 0.65\n",
      "31 0.6\n",
      "32 0.65\n",
      "33 0.7\n",
      "34 0.75\n",
      "35 0.75\n",
      "36 0.65\n",
      "37 0.65\n",
      "38 0.65\n",
      "39 0.75\n"
     ]
    },
    {
     "data": {
      "text/plain": [
       "[<matplotlib.lines.Line2D at 0x214b11c8050>]"
      ]
     },
     "execution_count": 23,
     "metadata": {},
     "output_type": "execute_result"
    },
    {
     "data": {
      "image/png": "[encoded data removed]",
      "text/plain": [
       "<Figure size 640x480 with 1 Axes>"
      ]
     },
     "metadata": {},
     "output_type": "display_data"
    }
   ],
   "source": [
    "from sklearn.tree import DecisionTreeRegressor\n",
    "from sklearn.utils import resample\n",
    "import numpy as np\n",
    "\n",
    "temp = []\n",
    "for j in range(1,40):\n",
    "    df_new = pd.read_csv('acdf_cleaned.csv', usecols=feature_names[0:j] + ['AC50'])\n",
    "    final_df = final_df[final_df['AC50'] < 1200]\n",
    "    X = df_new.drop(columns=['AC50'])\n",
    "    y = df_new['AC50']\n",
    "    X_train, X_test, y_train, y_test = train_test_split(X, y, test_size=0.2, random_state=42)\n",
    "        \n",
    "\n",
    "    # Fit the model\n",
    "    tree = DecisionTreeRegressor(random_state=42)\n",
    "    tree.fit(X_train, y_train)\n",
    "\n",
    "    # Generate bootstrap samples and make predictions\n",
    "    n_iterations = 100\n",
    "    values = pd.concat([X_train, y_train], axis=1)\n",
    "    predictions = []\n",
    "    for i in range(n_iterations):\n",
    "        bootstrap = resample(values, replace=True)\n",
    "        y_bootstrap = bootstrap[y_train.name]\n",
    "        X_bootstrap = bootstrap.drop(y_train.name, axis=1)\n",
    "        tree.fit(X_bootstrap, y_bootstrap)\n",
    "        y_pred = tree.predict(X_test)\n",
    "        predictions.append(y_pred)\n",
    "\n",
    "# Compute the 2.5th and 97.5th percentiles of the predictions\n",
    "    lower = np.percentile(predictions, 10.5, axis=0)\n",
    "    upper = np.percentile(predictions, 80.5, axis=0)\n",
    "\n",
    "    within_interval = (y_test.values >= lower) & (y_test.values <= upper)\n",
    "    acc = within_interval.mean()\n",
    "    temp.append(acc)\n",
    "    print(j , acc)\n",
    "plt.plot(temp)\n",
    "\n",
    "# Now `lower` and `upper` are your 95% confidence intervals"
   ]
  },
  {
   "cell_type": "code",
   "execution_count": 24,
   "metadata": {},
   "outputs": [
    {
     "data": {
      "text/html": [
       "<div>\n",
       "<style scoped>\n",
       "    .dataframe tbody tr th:only-of-type {\n",
       "        vertical-align: middle;\n",
       "    }\n",
       "\n",
       "    .dataframe tbody tr th {\n",
       "        vertical-align: top;\n",
       "    }\n",
       "\n",
       "    .dataframe thead th {\n",
       "        text-align: right;\n",
       "    }\n",
       "</style>\n",
       "<table border=\"1\" class=\"dataframe\">\n",
       "  <thead>\n",
       "    <tr style=\"text-align: right;\">\n",
       "      <th></th>\n",
       "      <th>AMR</th>\n",
       "      <th>ATS6s</th>\n",
       "      <th>AATS6p</th>\n",
       "      <th>AATS2i</th>\n",
       "      <th>AATS5i</th>\n",
       "      <th>AATS7i</th>\n",
       "      <th>ATSC5c</th>\n",
       "      <th>ATSC3v</th>\n",
       "      <th>ATSC5v</th>\n",
       "      <th>ATSC6v</th>\n",
       "      <th>...</th>\n",
       "      <th>JGI10</th>\n",
       "      <th>TDB1u</th>\n",
       "      <th>TDB2u</th>\n",
       "      <th>TDB10m</th>\n",
       "      <th>TDB10e</th>\n",
       "      <th>PPSA-1</th>\n",
       "      <th>PPSA-3</th>\n",
       "      <th>DPSA-1</th>\n",
       "      <th>Du</th>\n",
       "      <th>AC50</th>\n",
       "    </tr>\n",
       "  </thead>\n",
       "  <tbody>\n",
       "    <tr>\n",
       "      <th>0</th>\n",
       "      <td>54.1603</td>\n",
       "      <td>228.877315</td>\n",
       "      <td>1.428454</td>\n",
       "      <td>150.164192</td>\n",
       "      <td>159.763739</td>\n",
       "      <td>154.926707</td>\n",
       "      <td>-0.167843</td>\n",
       "      <td>-887.614748</td>\n",
       "      <td>699.143580</td>\n",
       "      <td>78.620185</td>\n",
       "      <td>...</td>\n",
       "      <td>0.007018</td>\n",
       "      <td>1.327346</td>\n",
       "      <td>2.316783</td>\n",
       "      <td>639.484961</td>\n",
       "      <td>58.087568</td>\n",
       "      <td>385.332309</td>\n",
       "      <td>18.102485</td>\n",
       "      <td>82.876531</td>\n",
       "      <td>1.309972</td>\n",
       "      <td>1190.0</td>\n",
       "    </tr>\n",
       "    <tr>\n",
       "      <th>1</th>\n",
       "      <td>51.4622</td>\n",
       "      <td>24.904321</td>\n",
       "      <td>1.360939</td>\n",
       "      <td>151.998655</td>\n",
       "      <td>158.821830</td>\n",
       "      <td>156.443261</td>\n",
       "      <td>-0.070620</td>\n",
       "      <td>-256.965849</td>\n",
       "      <td>-412.341079</td>\n",
       "      <td>412.908354</td>\n",
       "      <td>...</td>\n",
       "      <td>0.005102</td>\n",
       "      <td>1.322255</td>\n",
       "      <td>2.316908</td>\n",
       "      <td>726.907551</td>\n",
       "      <td>77.592298</td>\n",
       "      <td>469.050681</td>\n",
       "      <td>26.657763</td>\n",
       "      <td>220.957792</td>\n",
       "      <td>1.422600</td>\n",
       "      <td>1140.0</td>\n",
       "    </tr>\n",
       "    <tr>\n",
       "      <th>2</th>\n",
       "      <td>22.8452</td>\n",
       "      <td>213.888889</td>\n",
       "      <td>1.471832</td>\n",
       "      <td>150.160006</td>\n",
       "      <td>157.602426</td>\n",
       "      <td>158.887699</td>\n",
       "      <td>0.203645</td>\n",
       "      <td>-226.415279</td>\n",
       "      <td>-261.113532</td>\n",
       "      <td>-16.980382</td>\n",
       "      <td>...</td>\n",
       "      <td>0.004598</td>\n",
       "      <td>1.289068</td>\n",
       "      <td>2.245100</td>\n",
       "      <td>587.007758</td>\n",
       "      <td>69.951583</td>\n",
       "      <td>430.229987</td>\n",
       "      <td>23.057339</td>\n",
       "      <td>182.081343</td>\n",
       "      <td>1.426697</td>\n",
       "      <td>1030.0</td>\n",
       "    </tr>\n",
       "    <tr>\n",
       "      <th>3</th>\n",
       "      <td>45.8466</td>\n",
       "      <td>23.527778</td>\n",
       "      <td>1.296010</td>\n",
       "      <td>152.204543</td>\n",
       "      <td>159.259827</td>\n",
       "      <td>156.868863</td>\n",
       "      <td>-0.099131</td>\n",
       "      <td>-409.286871</td>\n",
       "      <td>-264.637543</td>\n",
       "      <td>533.479303</td>\n",
       "      <td>...</td>\n",
       "      <td>0.005420</td>\n",
       "      <td>1.307540</td>\n",
       "      <td>2.301283</td>\n",
       "      <td>650.185755</td>\n",
       "      <td>76.973462</td>\n",
       "      <td>486.846952</td>\n",
       "      <td>27.173210</td>\n",
       "      <td>262.228281</td>\n",
       "      <td>1.415445</td>\n",
       "      <td>1000.0</td>\n",
       "    </tr>\n",
       "    <tr>\n",
       "      <th>4</th>\n",
       "      <td>58.4512</td>\n",
       "      <td>449.955247</td>\n",
       "      <td>1.318572</td>\n",
       "      <td>157.706262</td>\n",
       "      <td>164.122816</td>\n",
       "      <td>167.759954</td>\n",
       "      <td>0.240984</td>\n",
       "      <td>301.898224</td>\n",
       "      <td>-205.756998</td>\n",
       "      <td>-1064.421997</td>\n",
       "      <td>...</td>\n",
       "      <td>0.007595</td>\n",
       "      <td>1.332692</td>\n",
       "      <td>2.310099</td>\n",
       "      <td>506.465406</td>\n",
       "      <td>58.120319</td>\n",
       "      <td>452.602381</td>\n",
       "      <td>22.560876</td>\n",
       "      <td>227.010021</td>\n",
       "      <td>1.272207</td>\n",
       "      <td>866.0</td>\n",
       "    </tr>\n",
       "    <tr>\n",
       "      <th>...</th>\n",
       "      <td>...</td>\n",
       "      <td>...</td>\n",
       "      <td>...</td>\n",
       "      <td>...</td>\n",
       "      <td>...</td>\n",
       "      <td>...</td>\n",
       "      <td>...</td>\n",
       "      <td>...</td>\n",
       "      <td>...</td>\n",
       "      <td>...</td>\n",
       "      <td>...</td>\n",
       "      <td>...</td>\n",
       "      <td>...</td>\n",
       "      <td>...</td>\n",
       "      <td>...</td>\n",
       "      <td>...</td>\n",
       "      <td>...</td>\n",
       "      <td>...</td>\n",
       "      <td>...</td>\n",
       "      <td>...</td>\n",
       "      <td>...</td>\n",
       "    </tr>\n",
       "    <tr>\n",
       "      <th>92</th>\n",
       "      <td>35.7083</td>\n",
       "      <td>304.416667</td>\n",
       "      <td>1.382874</td>\n",
       "      <td>153.197603</td>\n",
       "      <td>164.109119</td>\n",
       "      <td>163.746631</td>\n",
       "      <td>0.035651</td>\n",
       "      <td>-441.115209</td>\n",
       "      <td>106.100723</td>\n",
       "      <td>-288.750479</td>\n",
       "      <td>...</td>\n",
       "      <td>0.009782</td>\n",
       "      <td>1.331175</td>\n",
       "      <td>2.286334</td>\n",
       "      <td>424.044538</td>\n",
       "      <td>68.308513</td>\n",
       "      <td>380.689198</td>\n",
       "      <td>20.385711</td>\n",
       "      <td>179.389579</td>\n",
       "      <td>1.313951</td>\n",
       "      <td>16.0</td>\n",
       "    </tr>\n",
       "    <tr>\n",
       "      <th>93</th>\n",
       "      <td>74.6512</td>\n",
       "      <td>521.016461</td>\n",
       "      <td>1.466116</td>\n",
       "      <td>152.939523</td>\n",
       "      <td>159.483032</td>\n",
       "      <td>160.001417</td>\n",
       "      <td>-0.203674</td>\n",
       "      <td>14.046770</td>\n",
       "      <td>-518.719310</td>\n",
       "      <td>-563.084926</td>\n",
       "      <td>...</td>\n",
       "      <td>0.006764</td>\n",
       "      <td>1.338475</td>\n",
       "      <td>2.340390</td>\n",
       "      <td>580.553404</td>\n",
       "      <td>64.054205</td>\n",
       "      <td>475.150279</td>\n",
       "      <td>25.306423</td>\n",
       "      <td>86.971581</td>\n",
       "      <td>1.320353</td>\n",
       "      <td>14.0</td>\n",
       "    </tr>\n",
       "    <tr>\n",
       "      <th>94</th>\n",
       "      <td>40.1848</td>\n",
       "      <td>318.194444</td>\n",
       "      <td>1.414844</td>\n",
       "      <td>153.715431</td>\n",
       "      <td>163.367202</td>\n",
       "      <td>159.643614</td>\n",
       "      <td>0.077967</td>\n",
       "      <td>-359.805376</td>\n",
       "      <td>95.046341</td>\n",
       "      <td>-206.815085</td>\n",
       "      <td>...</td>\n",
       "      <td>0.010532</td>\n",
       "      <td>1.325020</td>\n",
       "      <td>2.270442</td>\n",
       "      <td>439.436248</td>\n",
       "      <td>67.391812</td>\n",
       "      <td>412.182388</td>\n",
       "      <td>18.593432</td>\n",
       "      <td>211.988438</td>\n",
       "      <td>1.269191</td>\n",
       "      <td>11.0</td>\n",
       "    </tr>\n",
       "    <tr>\n",
       "      <th>95</th>\n",
       "      <td>44.6556</td>\n",
       "      <td>582.861111</td>\n",
       "      <td>1.247007</td>\n",
       "      <td>162.283575</td>\n",
       "      <td>163.934533</td>\n",
       "      <td>163.431569</td>\n",
       "      <td>-0.552359</td>\n",
       "      <td>-570.521819</td>\n",
       "      <td>-70.114596</td>\n",
       "      <td>78.043606</td>\n",
       "      <td>...</td>\n",
       "      <td>0.008214</td>\n",
       "      <td>1.347398</td>\n",
       "      <td>2.335325</td>\n",
       "      <td>681.439936</td>\n",
       "      <td>80.334419</td>\n",
       "      <td>381.129807</td>\n",
       "      <td>26.915241</td>\n",
       "      <td>56.387604</td>\n",
       "      <td>1.216235</td>\n",
       "      <td>11.0</td>\n",
       "    </tr>\n",
       "    <tr>\n",
       "      <th>96</th>\n",
       "      <td>69.4607</td>\n",
       "      <td>548.572016</td>\n",
       "      <td>1.460652</td>\n",
       "      <td>152.980236</td>\n",
       "      <td>159.382171</td>\n",
       "      <td>161.058410</td>\n",
       "      <td>-0.343485</td>\n",
       "      <td>-313.245848</td>\n",
       "      <td>-434.532431</td>\n",
       "      <td>-357.561340</td>\n",
       "      <td>...</td>\n",
       "      <td>0.006571</td>\n",
       "      <td>1.341625</td>\n",
       "      <td>2.350109</td>\n",
       "      <td>743.684891</td>\n",
       "      <td>74.831132</td>\n",
       "      <td>503.688703</td>\n",
       "      <td>28.171838</td>\n",
       "      <td>90.844707</td>\n",
       "      <td>1.457907</td>\n",
       "      <td>3.2</td>\n",
       "    </tr>\n",
       "  </tbody>\n",
       "</table>\n",
       "<p>97 rows × 40 columns</p>\n",
       "</div>"
      ],
      "text/plain": [
       "        AMR       ATS6s    AATS6p      AATS2i      AATS5i      AATS7i  \\\n",
       "0   54.1603  228.877315  1.428454  150.164192  159.763739  154.926707   \n",
       "1   51.4622   24.904321  1.360939  151.998655  158.821830  156.443261   \n",
       "2   22.8452  213.888889  1.471832  150.160006  157.602426  158.887699   \n",
       "3   45.8466   23.527778  1.296010  152.204543  159.259827  156.868863   \n",
       "4   58.4512  449.955247  1.318572  157.706262  164.122816  167.759954   \n",
       "..      ...         ...       ...         ...         ...         ...   \n",
       "92  35.7083  304.416667  1.382874  153.197603  164.109119  163.746631   \n",
       "93  74.6512  521.016461  1.466116  152.939523  159.483032  160.001417   \n",
       "94  40.1848  318.194444  1.414844  153.715431  163.367202  159.643614   \n",
       "95  44.6556  582.861111  1.247007  162.283575  163.934533  163.431569   \n",
       "96  69.4607  548.572016  1.460652  152.980236  159.382171  161.058410   \n",
       "\n",
       "      ATSC5c      ATSC3v      ATSC5v       ATSC6v  ...     JGI10     TDB1u  \\\n",
       "0  -0.167843 -887.614748  699.143580    78.620185  ...  0.007018  1.327346   \n",
       "1  -0.070620 -256.965849 -412.341079   412.908354  ...  0.005102  1.322255   \n",
       "2   0.203645 -226.415279 -261.113532   -16.980382  ...  0.004598  1.289068   \n",
       "3  -0.099131 -409.286871 -264.637543   533.479303  ...  0.005420  1.307540   \n",
       "4   0.240984  301.898224 -205.756998 -1064.421997  ...  0.007595  1.332692   \n",
       "..       ...         ...         ...          ...  ...       ...       ...   \n",
       "92  0.035651 -441.115209  106.100723  -288.750479  ...  0.009782  1.331175   \n",
       "93 -0.203674   14.046770 -518.719310  -563.084926  ...  0.006764  1.338475   \n",
       "94  0.077967 -359.805376   95.046341  -206.815085  ...  0.010532  1.325020   \n",
       "95 -0.552359 -570.521819  -70.114596    78.043606  ...  0.008214  1.347398   \n",
       "96 -0.343485 -313.245848 -434.532431  -357.561340  ...  0.006571  1.341625   \n",
       "\n",
       "       TDB2u      TDB10m     TDB10e      PPSA-1     PPSA-3      DPSA-1  \\\n",
       "0   2.316783  639.484961  58.087568  385.332309  18.102485   82.876531   \n",
       "1   2.316908  726.907551  77.592298  469.050681  26.657763  220.957792   \n",
       "2   2.245100  587.007758  69.951583  430.229987  23.057339  182.081343   \n",
       "3   2.301283  650.185755  76.973462  486.846952  27.173210  262.228281   \n",
       "4   2.310099  506.465406  58.120319  452.602381  22.560876  227.010021   \n",
       "..       ...         ...        ...         ...        ...         ...   \n",
       "92  2.286334  424.044538  68.308513  380.689198  20.385711  179.389579   \n",
       "93  2.340390  580.553404  64.054205  475.150279  25.306423   86.971581   \n",
       "94  2.270442  439.436248  67.391812  412.182388  18.593432  211.988438   \n",
       "95  2.335325  681.439936  80.334419  381.129807  26.915241   56.387604   \n",
       "96  2.350109  743.684891  74.831132  503.688703  28.171838   90.844707   \n",
       "\n",
       "          Du    AC50  \n",
       "0   1.309972  1190.0  \n",
       "1   1.422600  1140.0  \n",
       "2   1.426697  1030.0  \n",
       "3   1.415445  1000.0  \n",
       "4   1.272207   866.0  \n",
       "..       ...     ...  \n",
       "92  1.313951    16.0  \n",
       "93  1.320353    14.0  \n",
       "94  1.269191    11.0  \n",
       "95  1.216235    11.0  \n",
       "96  1.457907     3.2  \n",
       "\n",
       "[97 rows x 40 columns]"
      ]
     },
     "execution_count": 24,
     "metadata": {},
     "output_type": "execute_result"
    }
   ],
   "source": [
    "df_new"
   ]
  },
  {
   "cell_type": "code",
   "execution_count": 25,
   "metadata": {},
   "outputs": [
    {
     "data": {
      "text/plain": [
       "[0.65, 0.6, 0.7, 0.65, 0.75, 0.7, 0.65, 0.7, 0.6, 0.65]"
      ]
     },
     "execution_count": 25,
     "metadata": {},
     "output_type": "execute_result"
    }
   ],
   "source": [
    "temp[10:20]"
   ]
  },
  {
   "cell_type": "code",
   "execution_count": 22,
   "metadata": {},
   "outputs": [
    {
     "name": "stdout",
     "output_type": "stream",
     "text": [
      "Successfully trained and saved 100 tree models\n"
     ]
    },
    {
     "data": {
      "text/plain": [
       "0.85"
      ]
     },
     "execution_count": 22,
     "metadata": {},
     "output_type": "execute_result"
    }
   ],
   "source": [
    "from sklearn.utils import resample\n",
    "import numpy as np\n",
    "import pandas as pd\n",
    "\n",
    "\n",
    "df_new = pd.read_csv('acdf_cleaned.csv', usecols=feature_names[0:21] + ['AC50'])\n",
    "final_df = final_df[final_df['AC50'] < 1200]\n",
    "X = df_new.drop(columns=['AC50'])\n",
    "y = df_new['AC50']\n",
    "X_train, X_test, y_train, y_test = train_test_split(X, y, test_size=0.2, random_state=42)\n",
    "        \n",
    "\n",
    "    # Fit the model\n",
    "tree = DecisionTreeRegressor(random_state=42) # why I used this algorithm\n",
    "tree.fit(X_train, y_train)\n",
    "\n",
    "    # Generate bootstrap samples and make predictions\n",
    "n_iterations = 100\n",
    "values = pd.concat([X_train, y_train], axis=1)\n",
    "predictions = []\n",
    "for i in range(n_iterations):\n",
    "    bootstrap = resample(values, replace=True)\n",
    "    y_bootstrap = bootstrap[y_train.name]\n",
    "    X_bootstrap = bootstrap.drop(y_train.name, axis=1)\n",
    "\n",
    "    tree = DecisionTreeRegressor(random_state=42)\n",
    "    tree.fit(X_bootstrap, y_bootstrap)\n",
    "    \n",
    "    y_pred = tree.predict(X_test)\n",
    "    predictions.append(y_pred)\n",
    "\n",
    "    dump(tree, fR'tree_reg_models/tree_{i}.joblib')\n",
    "\n",
    "print(\"Successfully trained and saved 100 tree models\")\n",
    "\n",
    "# Compute the 10.5th and 80.5th percentiles of the predictions\n",
    "lower = np.percentile(predictions, 2.5, axis=0)\n",
    "upper = np.percentile(predictions, 97.5, axis=0)\n",
    "\n",
    "within_interval = (y_test.values >= lower) & (y_test.values <= upper)\n",
    "acc = within_interval.mean()\n",
    "acc\n",
    "# Now `lower` and `upper` are your 70% confidence intervals"
   ]
  },
  {
   "cell_type": "code",
   "execution_count": 29,
   "metadata": {},
   "outputs": [
    {
     "data": {
      "text/plain": [
       "Index(['ATS6s', 'AATS2i', 'AATS5i', 'AATS7i', 'ATSC3v', 'ATSC5v', 'ATSC6v',\n",
       "       'ATSC2p', 'ATSC4i', 'MATS5s', 'GATS4c', 'GATS5s', 'BCUTp-1l', 'SwHBa',\n",
       "       'JGI3', 'JGI9', 'JGI10', 'TDB2u', 'TDB10e', 'PPSA-3', 'Du'],\n",
       "      dtype='object')"
      ]
     },
     "execution_count": 29,
     "metadata": {},
     "output_type": "execute_result"
    }
   ],
   "source": [
    "X_test.columns"
   ]
  },
  {
   "cell_type": "code",
   "execution_count": 30,
   "metadata": {},
   "outputs": [],
   "source": [
    "X_test.to_csv('X_test.csv', index=False)"
   ]
  },
  {
   "cell_type": "code",
   "execution_count": 36,
   "metadata": {},
   "outputs": [
    {
     "data": {
      "application/vnd.plotly.v1+json": {
       "config": {
        "plotlyServerURL": "https://plot.ly"
       },
       "data": [
        {
         "base": [
          86,
          45,
          45,
          120,
          17,
          215.75,
          76,
          44,
          34,
          93.14500000000001,
          26,
          60,
          220,
          113,
          127,
          62.5,
          48.75,
          755,
          60,
          34
         ],
         "orientation": "h",
         "type": "bar",
         "x": [
          168,
          352.875,
          352.875,
          350,
          214.5,
          140.25,
          140,
          171,
          78.5,
          356.855,
          76.5,
          165,
          780,
          322.375,
          213,
          191.5,
          338.25,
          385,
          82,
          50
         ],
         "y": [
          0,
          1,
          2,
          3,
          4,
          5,
          6,
          7,
          8,
          9,
          10,
          11,
          12,
          13,
          14,
          15,
          16,
          17,
          18,
          19
         ]
        },
        {
         "marker": {
          "color": "red"
         },
         "mode": "markers",
         "type": "scatter",
         "x": [
          93,
          188,
          14,
          466,
          45,
          37,
          90,
          174,
          750,
          1190,
          223,
          57,
          145,
          270,
          159,
          866,
          345,
          610,
          24,
          62
         ],
         "y": [
          0,
          1,
          2,
          3,
          4,
          5,
          6,
          7,
          8,
          9,
          10,
          11,
          12,
          13,
          14,
          15,
          16,
          17,
          18,
          19
         ]
        }
       ],
       "layout": {
        "template": {
         "data": {
          "bar": [
           {
            "error_x": {
             "color": "#2a3f5f"
            },
            "error_y": {
             "color": "#2a3f5f"
            },
            "marker": {
             "line": {
              "color": "#E5ECF6",
              "width": 0.5
             },
             "pattern": {
              "fillmode": "overlay",
              "size": 10,
              "solidity": 0.2
             }
            },
            "type": "bar"
           }
          ],
          "barpolar": [
           {
            "marker": {
             "line": {
              "color": "#E5ECF6",
              "width": 0.5
             },
             "pattern": {
              "fillmode": "overlay",
              "size": 10,
              "solidity": 0.2
             }
            },
            "type": "barpolar"
           }
          ],
          "carpet": [
           {
            "aaxis": {
             "endlinecolor": "#2a3f5f",
             "gridcolor": "white",
             "linecolor": "white",
             "minorgridcolor": "white",
             "startlinecolor": "#2a3f5f"
            },
            "baxis": {
             "endlinecolor": "#2a3f5f",
             "gridcolor": "white",
             "linecolor": "white",
             "minorgridcolor": "white",
             "startlinecolor": "#2a3f5f"
            },
            "type": "carpet"
           }
          ],
          "choropleth": [
           {
            "colorbar": {
             "outlinewidth": 0,
             "ticks": ""
            },
            "type": "choropleth"
           }
          ],
          "contour": [
           {
            "colorbar": {
             "outlinewidth": 0,
             "ticks": ""
            },
            "colorscale": [
             [
              0,
              "#0d0887"
             ],
             [
              0.1111111111111111,
              "#46039f"
             ],
             [
              0.2222222222222222,
              "#7201a8"
             ],
             [
              0.3333333333333333,
              "#9c179e"
             ],
             [
              0.4444444444444444,
              "#bd3786"
             ],
             [
              0.5555555555555556,
              "#d8576b"
             ],
             [
              0.6666666666666666,
              "#ed7953"
             ],
             [
              0.7777777777777778,
              "#fb9f3a"
             ],
             [
              0.8888888888888888,
              "#fdca26"
             ],
             [
              1,
              "#f0f921"
             ]
            ],
            "type": "contour"
           }
          ],
          "contourcarpet": [
           {
            "colorbar": {
             "outlinewidth": 0,
             "ticks": ""
            },
            "type": "contourcarpet"
           }
          ],
          "heatmap": [
           {
            "colorbar": {
             "outlinewidth": 0,
             "ticks": ""
            },
            "colorscale": [
             [
              0,
              "#0d0887"
             ],
             [
              0.1111111111111111,
              "#46039f"
             ],
             [
              0.2222222222222222,
              "#7201a8"
             ],
             [
              0.3333333333333333,
              "#9c179e"
             ],
             [
              0.4444444444444444,
              "#bd3786"
             ],
             [
              0.5555555555555556,
              "#d8576b"
             ],
             [
              0.6666666666666666,
              "#ed7953"
             ],
             [
              0.7777777777777778,
              "#fb9f3a"
             ],
             [
              0.8888888888888888,
              "#fdca26"
             ],
             [
              1,
              "#f0f921"
             ]
            ],
            "type": "heatmap"
           }
          ],
          "heatmapgl": [
           {
            "colorbar": {
             "outlinewidth": 0,
             "ticks": ""
            },
            "colorscale": [
             [
              0,
              "#0d0887"
             ],
             [
              0.1111111111111111,
              "#46039f"
             ],
             [
              0.2222222222222222,
              "#7201a8"
             ],
             [
              0.3333333333333333,
              "#9c179e"
             ],
             [
              0.4444444444444444,
              "#bd3786"
             ],
             [
              0.5555555555555556,
              "#d8576b"
             ],
             [
              0.6666666666666666,
              "#ed7953"
             ],
             [
              0.7777777777777778,
              "#fb9f3a"
             ],
             [
              0.8888888888888888,
              "#fdca26"
             ],
             [
              1,
              "#f0f921"
             ]
            ],
            "type": "heatmapgl"
           }
          ],
          "histogram": [
           {
            "marker": {
             "pattern": {
              "fillmode": "overlay",
              "size": 10,
              "solidity": 0.2
             }
            },
            "type": "histogram"
           }
          ],
          "histogram2d": [
           {
            "colorbar": {
             "outlinewidth": 0,
             "ticks": ""
            },
            "colorscale": [
             [
              0,
              "#0d0887"
             ],
             [
              0.1111111111111111,
              "#46039f"
             ],
             [
              0.2222222222222222,
              "#7201a8"
             ],
             [
              0.3333333333333333,
              "#9c179e"
             ],
             [
              0.4444444444444444,
              "#bd3786"
             ],
             [
              0.5555555555555556,
              "#d8576b"
             ],
             [
              0.6666666666666666,
              "#ed7953"
             ],
             [
              0.7777777777777778,
              "#fb9f3a"
             ],
             [
              0.8888888888888888,
              "#fdca26"
             ],
             [
              1,
              "#f0f921"
             ]
            ],
            "type": "histogram2d"
           }
          ],
          "histogram2dcontour": [
           {
            "colorbar": {
             "outlinewidth": 0,
             "ticks": ""
            },
            "colorscale": [
             [
              0,
              "#0d0887"
             ],
             [
              0.1111111111111111,
              "#46039f"
             ],
             [
              0.2222222222222222,
              "#7201a8"
             ],
             [
              0.3333333333333333,
              "#9c179e"
             ],
             [
              0.4444444444444444,
              "#bd3786"
             ],
             [
              0.5555555555555556,
              "#d8576b"
             ],
             [
              0.6666666666666666,
              "#ed7953"
             ],
             [
              0.7777777777777778,
              "#fb9f3a"
             ],
             [
              0.8888888888888888,
              "#fdca26"
             ],
             [
              1,
              "#f0f921"
             ]
            ],
            "type": "histogram2dcontour"
           }
          ],
          "mesh3d": [
           {
            "colorbar": {
             "outlinewidth": 0,
             "ticks": ""
            },
            "type": "mesh3d"
           }
          ],
          "parcoords": [
           {
            "line": {
             "colorbar": {
              "outlinewidth": 0,
              "ticks": ""
             }
            },
            "type": "parcoords"
           }
          ],
          "pie": [
           {
            "automargin": true,
            "type": "pie"
           }
          ],
          "scatter": [
           {
            "fillpattern": {
             "fillmode": "overlay",
             "size": 10,
             "solidity": 0.2
            },
            "type": "scatter"
           }
          ],
          "scatter3d": [
           {
            "line": {
             "colorbar": {
              "outlinewidth": 0,
              "ticks": ""
             }
            },
            "marker": {
             "colorbar": {
              "outlinewidth": 0,
              "ticks": ""
             }
            },
            "type": "scatter3d"
           }
          ],
          "scattercarpet": [
           {
            "marker": {
             "colorbar": {
              "outlinewidth": 0,
              "ticks": ""
             }
            },
            "type": "scattercarpet"
           }
          ],
          "scattergeo": [
           {
            "marker": {
             "colorbar": {
              "outlinewidth": 0,
              "ticks": ""
             }
            },
            "type": "scattergeo"
           }
          ],
          "scattergl": [
           {
            "marker": {
             "colorbar": {
              "outlinewidth": 0,
              "ticks": ""
             }
            },
            "type": "scattergl"
           }
          ],
          "scattermapbox": [
           {
            "marker": {
             "colorbar": {
              "outlinewidth": 0,
              "ticks": ""
             }
            },
            "type": "scattermapbox"
           }
          ],
          "scatterpolar": [
           {
            "marker": {
             "colorbar": {
              "outlinewidth": 0,
              "ticks": ""
             }
            },
            "type": "scatterpolar"
           }
          ],
          "scatterpolargl": [
           {
            "marker": {
             "colorbar": {
              "outlinewidth": 0,
              "ticks": ""
             }
            },
            "type": "scatterpolargl"
           }
          ],
          "scatterternary": [
           {
            "marker": {
             "colorbar": {
              "outlinewidth": 0,
              "ticks": ""
             }
            },
            "type": "scatterternary"
           }
          ],
          "surface": [
           {
            "colorbar": {
             "outlinewidth": 0,
             "ticks": ""
            },
            "colorscale": [
             [
              0,
              "#0d0887"
             ],
             [
              0.1111111111111111,
              "#46039f"
             ],
             [
              0.2222222222222222,
              "#7201a8"
             ],
             [
              0.3333333333333333,
              "#9c179e"
             ],
             [
              0.4444444444444444,
              "#bd3786"
             ],
             [
              0.5555555555555556,
              "#d8576b"
             ],
             [
              0.6666666666666666,
              "#ed7953"
             ],
             [
              0.7777777777777778,
              "#fb9f3a"
             ],
             [
              0.8888888888888888,
              "#fdca26"
             ],
             [
              1,
              "#f0f921"
             ]
            ],
            "type": "surface"
           }
          ],
          "table": [
           {
            "cells": {
             "fill": {
              "color": "#EBF0F8"
             },
             "line": {
              "color": "white"
             }
            },
            "header": {
             "fill": {
              "color": "#C8D4E3"
             },
             "line": {
              "color": "white"
             }
            },
            "type": "table"
           }
          ]
         },
         "layout": {
          "annotationdefaults": {
           "arrowcolor": "#2a3f5f",
           "arrowhead": 0,
           "arrowwidth": 1
          },
          "autotypenumbers": "strict",
          "coloraxis": {
           "colorbar": {
            "outlinewidth": 0,
            "ticks": ""
           }
          },
          "colorscale": {
           "diverging": [
            [
             0,
             "#8e0152"
            ],
            [
             0.1,
             "#c51b7d"
            ],
            [
             0.2,
             "#de77ae"
            ],
            [
             0.3,
             "#f1b6da"
            ],
            [
             0.4,
             "#fde0ef"
            ],
            [
             0.5,
             "#f7f7f7"
            ],
            [
             0.6,
             "#e6f5d0"
            ],
            [
             0.7,
             "#b8e186"
            ],
            [
             0.8,
             "#7fbc41"
            ],
            [
             0.9,
             "#4d9221"
            ],
            [
             1,
             "#276419"
            ]
           ],
           "sequential": [
            [
             0,
             "#0d0887"
            ],
            [
             0.1111111111111111,
             "#46039f"
            ],
            [
             0.2222222222222222,
             "#7201a8"
            ],
            [
             0.3333333333333333,
             "#9c179e"
            ],
            [
             0.4444444444444444,
             "#bd3786"
            ],
            [
             0.5555555555555556,
             "#d8576b"
            ],
            [
             0.6666666666666666,
             "#ed7953"
            ],
            [
             0.7777777777777778,
             "#fb9f3a"
            ],
            [
             0.8888888888888888,
             "#fdca26"
            ],
            [
             1,
             "#f0f921"
            ]
           ],
           "sequentialminus": [
            [
             0,
             "#0d0887"
            ],
            [
             0.1111111111111111,
             "#46039f"
            ],
            [
             0.2222222222222222,
             "#7201a8"
            ],
            [
             0.3333333333333333,
             "#9c179e"
            ],
            [
             0.4444444444444444,
             "#bd3786"
            ],
            [
             0.5555555555555556,
             "#d8576b"
            ],
            [
             0.6666666666666666,
             "#ed7953"
            ],
            [
             0.7777777777777778,
             "#fb9f3a"
            ],
            [
             0.8888888888888888,
             "#fdca26"
            ],
            [
             1,
             "#f0f921"
            ]
           ]
          },
          "colorway": [
           "#636efa",
           "#EF553B",
           "#00cc96",
           "#ab63fa",
           "#FFA15A",
           "#19d3f3",
           "#FF6692",
           "#B6E880",
           "#FF97FF",
           "#FECB52"
          ],
          "font": {
           "color": "#2a3f5f"
          },
          "geo": {
           "bgcolor": "white",
           "lakecolor": "white",
           "landcolor": "#E5ECF6",
           "showlakes": true,
           "showland": true,
           "subunitcolor": "white"
          },
          "hoverlabel": {
           "align": "left"
          },
          "hovermode": "closest",
          "mapbox": {
           "style": "light"
          },
          "paper_bgcolor": "white",
          "plot_bgcolor": "#E5ECF6",
          "polar": {
           "angularaxis": {
            "gridcolor": "white",
            "linecolor": "white",
            "ticks": ""
           },
           "bgcolor": "#E5ECF6",
           "radialaxis": {
            "gridcolor": "white",
            "linecolor": "white",
            "ticks": ""
           }
          },
          "scene": {
           "xaxis": {
            "backgroundcolor": "#E5ECF6",
            "gridcolor": "white",
            "gridwidth": 2,
            "linecolor": "white",
            "showbackground": true,
            "ticks": "",
            "zerolinecolor": "white"
           },
           "yaxis": {
            "backgroundcolor": "#E5ECF6",
            "gridcolor": "white",
            "gridwidth": 2,
            "linecolor": "white",
            "showbackground": true,
            "ticks": "",
            "zerolinecolor": "white"
           },
           "zaxis": {
            "backgroundcolor": "#E5ECF6",
            "gridcolor": "white",
            "gridwidth": 2,
            "linecolor": "white",
            "showbackground": true,
            "ticks": "",
            "zerolinecolor": "white"
           }
          },
          "shapedefaults": {
           "line": {
            "color": "#2a3f5f"
           }
          },
          "ternary": {
           "aaxis": {
            "gridcolor": "white",
            "linecolor": "white",
            "ticks": ""
           },
           "baxis": {
            "gridcolor": "white",
            "linecolor": "white",
            "ticks": ""
           },
           "bgcolor": "#E5ECF6",
           "caxis": {
            "gridcolor": "white",
            "linecolor": "white",
            "ticks": ""
           }
          },
          "title": {
           "x": 0.05
          },
          "xaxis": {
           "automargin": true,
           "gridcolor": "white",
           "linecolor": "white",
           "ticks": "",
           "title": {
            "standoff": 15
           },
           "zerolinecolor": "white",
           "zerolinewidth": 2
          },
          "yaxis": {
           "automargin": true,
           "gridcolor": "white",
           "linecolor": "white",
           "ticks": "",
           "title": {
            "standoff": 15
           },
           "zerolinecolor": "white",
           "zerolinewidth": 2
          }
         }
        },
        "title": {
         "text": "Bar and Scatter Plot at 50% /confidence level"
        },
        "xaxis": {
         "title": {
          "text": "AC50 Value"
         }
        },
        "yaxis": {
         "title": {
          "text": "Index of Test molecules"
         }
        }
       }
      }
     },
     "metadata": {},
     "output_type": "display_data"
    }
   ],
   "source": [
    "import plotly.graph_objects as go\n",
    "\n",
    "# Create the bar plot\n",
    "bar = go.Bar(y=list(range(len(lower))), x=upper-lower, base=lower, orientation='h')\n",
    "\n",
    "# Plot the y_test values\n",
    "scatter = go.Scatter(y=list(range(len(y_test))), x=y_test, mode='markers', marker=dict(color='red'))\n",
    "\n",
    "# Create the layout\n",
    "layout = go.Layout(title='Bar and Scatter Plot at 50% /confidence level', xaxis=dict(title='AC50 Value'), yaxis=dict(title='Index of Test molecules'))\n",
    "\n",
    "# Create the figure and add the traces\n",
    "fig = go.Figure(data=[bar, scatter], layout=layout)\n",
    "\n",
    "# Show the plot\n",
    "fig.show()"
   ]
  },
  {
   "cell_type": "code",
   "execution_count": 33,
   "metadata": {},
   "outputs": [
    {
     "data": {
      "application/vnd.plotly.v1+json": {
       "config": {
        "plotlyServerURL": "https://plot.ly"
       },
       "data": [
        {
         "base": [
          40.25,
          6.125,
          6.125,
          86,
          17,
          108,
          52,
          21,
          29,
          62,
          18,
          47,
          213,
          70.25,
          120,
          35,
          26,
          219,
          35,
          17.375
         ],
         "orientation": "h",
         "type": "bar",
         "x": [
          429.875,
          318.125,
          318.125,
          612.75,
          729.25,
          248,
          688,
          194,
          93.5,
          678,
          96,
          178,
          787,
          686.75,
          395,
          722,
          723.375,
          921,
          305,
          74.625
         ],
         "y": [
          0,
          1,
          2,
          3,
          4,
          5,
          6,
          7,
          8,
          9,
          10,
          11,
          12,
          13,
          14,
          15,
          16,
          17,
          18,
          19
         ]
        },
        {
         "marker": {
          "color": "red"
         },
         "mode": "markers",
         "type": "scatter",
         "x": [
          93,
          188,
          14,
          466,
          45,
          37,
          90,
          174,
          750,
          1190,
          223,
          57,
          145,
          270,
          159,
          866,
          345,
          610,
          24,
          62
         ],
         "y": [
          0,
          1,
          2,
          3,
          4,
          5,
          6,
          7,
          8,
          9,
          10,
          11,
          12,
          13,
          14,
          15,
          16,
          17,
          18,
          19
         ]
        }
       ],
       "layout": {
        "template": {
         "data": {
          "bar": [
           {
            "error_x": {
             "color": "#2a3f5f"
            },
            "error_y": {
             "color": "#2a3f5f"
            },
            "marker": {
             "line": {
              "color": "#E5ECF6",
              "width": 0.5
             },
             "pattern": {
              "fillmode": "overlay",
              "size": 10,
              "solidity": 0.2
             }
            },
            "type": "bar"
           }
          ],
          "barpolar": [
           {
            "marker": {
             "line": {
              "color": "#E5ECF6",
              "width": 0.5
             },
             "pattern": {
              "fillmode": "overlay",
              "size": 10,
              "solidity": 0.2
             }
            },
            "type": "barpolar"
           }
          ],
          "carpet": [
           {
            "aaxis": {
             "endlinecolor": "#2a3f5f",
             "gridcolor": "white",
             "linecolor": "white",
             "minorgridcolor": "white",
             "startlinecolor": "#2a3f5f"
            },
            "baxis": {
             "endlinecolor": "#2a3f5f",
             "gridcolor": "white",
             "linecolor": "white",
             "minorgridcolor": "white",
             "startlinecolor": "#2a3f5f"
            },
            "type": "carpet"
           }
          ],
          "choropleth": [
           {
            "colorbar": {
             "outlinewidth": 0,
             "ticks": ""
            },
            "type": "choropleth"
           }
          ],
          "contour": [
           {
            "colorbar": {
             "outlinewidth": 0,
             "ticks": ""
            },
            "colorscale": [
             [
              0,
              "#0d0887"
             ],
             [
              0.1111111111111111,
              "#46039f"
             ],
             [
              0.2222222222222222,
              "#7201a8"
             ],
             [
              0.3333333333333333,
              "#9c179e"
             ],
             [
              0.4444444444444444,
              "#bd3786"
             ],
             [
              0.5555555555555556,
              "#d8576b"
             ],
             [
              0.6666666666666666,
              "#ed7953"
             ],
             [
              0.7777777777777778,
              "#fb9f3a"
             ],
             [
              0.8888888888888888,
              "#fdca26"
             ],
             [
              1,
              "#f0f921"
             ]
            ],
            "type": "contour"
           }
          ],
          "contourcarpet": [
           {
            "colorbar": {
             "outlinewidth": 0,
             "ticks": ""
            },
            "type": "contourcarpet"
           }
          ],
          "heatmap": [
           {
            "colorbar": {
             "outlinewidth": 0,
             "ticks": ""
            },
            "colorscale": [
             [
              0,
              "#0d0887"
             ],
             [
              0.1111111111111111,
              "#46039f"
             ],
             [
              0.2222222222222222,
              "#7201a8"
             ],
             [
              0.3333333333333333,
              "#9c179e"
             ],
             [
              0.4444444444444444,
              "#bd3786"
             ],
             [
              0.5555555555555556,
              "#d8576b"
             ],
             [
              0.6666666666666666,
              "#ed7953"
             ],
             [
              0.7777777777777778,
              "#fb9f3a"
             ],
             [
              0.8888888888888888,
              "#fdca26"
             ],
             [
              1,
              "#f0f921"
             ]
            ],
            "type": "heatmap"
           }
          ],
          "heatmapgl": [
           {
            "colorbar": {
             "outlinewidth": 0,
             "ticks": ""
            },
            "colorscale": [
             [
              0,
              "#0d0887"
             ],
             [
              0.1111111111111111,
              "#46039f"
             ],
             [
              0.2222222222222222,
              "#7201a8"
             ],
             [
              0.3333333333333333,
              "#9c179e"
             ],
             [
              0.4444444444444444,
              "#bd3786"
             ],
             [
              0.5555555555555556,
              "#d8576b"
             ],
             [
              0.6666666666666666,
              "#ed7953"
             ],
             [
              0.7777777777777778,
              "#fb9f3a"
             ],
             [
              0.8888888888888888,
              "#fdca26"
             ],
             [
              1,
              "#f0f921"
             ]
            ],
            "type": "heatmapgl"
           }
          ],
          "histogram": [
           {
            "marker": {
             "pattern": {
              "fillmode": "overlay",
              "size": 10,
              "solidity": 0.2
             }
            },
            "type": "histogram"
           }
          ],
          "histogram2d": [
           {
            "colorbar": {
             "outlinewidth": 0,
             "ticks": ""
            },
            "colorscale": [
             [
              0,
              "#0d0887"
             ],
             [
              0.1111111111111111,
              "#46039f"
             ],
             [
              0.2222222222222222,
              "#7201a8"
             ],
             [
              0.3333333333333333,
              "#9c179e"
             ],
             [
              0.4444444444444444,
              "#bd3786"
             ],
             [
              0.5555555555555556,
              "#d8576b"
             ],
             [
              0.6666666666666666,
              "#ed7953"
             ],
             [
              0.7777777777777778,
              "#fb9f3a"
             ],
             [
              0.8888888888888888,
              "#fdca26"
             ],
             [
              1,
              "#f0f921"
             ]
            ],
            "type": "histogram2d"
           }
          ],
          "histogram2dcontour": [
           {
            "colorbar": {
             "outlinewidth": 0,
             "ticks": ""
            },
            "colorscale": [
             [
              0,
              "#0d0887"
             ],
             [
              0.1111111111111111,
              "#46039f"
             ],
             [
              0.2222222222222222,
              "#7201a8"
             ],
             [
              0.3333333333333333,
              "#9c179e"
             ],
             [
              0.4444444444444444,
              "#bd3786"
             ],
             [
              0.5555555555555556,
              "#d8576b"
             ],
             [
              0.6666666666666666,
              "#ed7953"
             ],
             [
              0.7777777777777778,
              "#fb9f3a"
             ],
             [
              0.8888888888888888,
              "#fdca26"
             ],
             [
              1,
              "#f0f921"
             ]
            ],
            "type": "histogram2dcontour"
           }
          ],
          "mesh3d": [
           {
            "colorbar": {
             "outlinewidth": 0,
             "ticks": ""
            },
            "type": "mesh3d"
           }
          ],
          "parcoords": [
           {
            "line": {
             "colorbar": {
              "outlinewidth": 0,
              "ticks": ""
             }
            },
            "type": "parcoords"
           }
          ],
          "pie": [
           {
            "automargin": true,
            "type": "pie"
           }
          ],
          "scatter": [
           {
            "fillpattern": {
             "fillmode": "overlay",
             "size": 10,
             "solidity": 0.2
            },
            "type": "scatter"
           }
          ],
          "scatter3d": [
           {
            "line": {
             "colorbar": {
              "outlinewidth": 0,
              "ticks": ""
             }
            },
            "marker": {
             "colorbar": {
              "outlinewidth": 0,
              "ticks": ""
             }
            },
            "type": "scatter3d"
           }
          ],
          "scattercarpet": [
           {
            "marker": {
             "colorbar": {
              "outlinewidth": 0,
              "ticks": ""
             }
            },
            "type": "scattercarpet"
           }
          ],
          "scattergeo": [
           {
            "marker": {
             "colorbar": {
              "outlinewidth": 0,
              "ticks": ""
             }
            },
            "type": "scattergeo"
           }
          ],
          "scattergl": [
           {
            "marker": {
             "colorbar": {
              "outlinewidth": 0,
              "ticks": ""
             }
            },
            "type": "scattergl"
           }
          ],
          "scattermapbox": [
           {
            "marker": {
             "colorbar": {
              "outlinewidth": 0,
              "ticks": ""
             }
            },
            "type": "scattermapbox"
           }
          ],
          "scatterpolar": [
           {
            "marker": {
             "colorbar": {
              "outlinewidth": 0,
              "ticks": ""
             }
            },
            "type": "scatterpolar"
           }
          ],
          "scatterpolargl": [
           {
            "marker": {
             "colorbar": {
              "outlinewidth": 0,
              "ticks": ""
             }
            },
            "type": "scatterpolargl"
           }
          ],
          "scatterternary": [
           {
            "marker": {
             "colorbar": {
              "outlinewidth": 0,
              "ticks": ""
             }
            },
            "type": "scatterternary"
           }
          ],
          "surface": [
           {
            "colorbar": {
             "outlinewidth": 0,
             "ticks": ""
            },
            "colorscale": [
             [
              0,
              "#0d0887"
             ],
             [
              0.1111111111111111,
              "#46039f"
             ],
             [
              0.2222222222222222,
              "#7201a8"
             ],
             [
              0.3333333333333333,
              "#9c179e"
             ],
             [
              0.4444444444444444,
              "#bd3786"
             ],
             [
              0.5555555555555556,
              "#d8576b"
             ],
             [
              0.6666666666666666,
              "#ed7953"
             ],
             [
              0.7777777777777778,
              "#fb9f3a"
             ],
             [
              0.8888888888888888,
              "#fdca26"
             ],
             [
              1,
              "#f0f921"
             ]
            ],
            "type": "surface"
           }
          ],
          "table": [
           {
            "cells": {
             "fill": {
              "color": "#EBF0F8"
             },
             "line": {
              "color": "white"
             }
            },
            "header": {
             "fill": {
              "color": "#C8D4E3"
             },
             "line": {
              "color": "white"
             }
            },
            "type": "table"
           }
          ]
         },
         "layout": {
          "annotationdefaults": {
           "arrowcolor": "#2a3f5f",
           "arrowhead": 0,
           "arrowwidth": 1
          },
          "autotypenumbers": "strict",
          "coloraxis": {
           "colorbar": {
            "outlinewidth": 0,
            "ticks": ""
           }
          },
          "colorscale": {
           "diverging": [
            [
             0,
             "#8e0152"
            ],
            [
             0.1,
             "#c51b7d"
            ],
            [
             0.2,
             "#de77ae"
            ],
            [
             0.3,
             "#f1b6da"
            ],
            [
             0.4,
             "#fde0ef"
            ],
            [
             0.5,
             "#f7f7f7"
            ],
            [
             0.6,
             "#e6f5d0"
            ],
            [
             0.7,
             "#b8e186"
            ],
            [
             0.8,
             "#7fbc41"
            ],
            [
             0.9,
             "#4d9221"
            ],
            [
             1,
             "#276419"
            ]
           ],
           "sequential": [
            [
             0,
             "#0d0887"
            ],
            [
             0.1111111111111111,
             "#46039f"
            ],
            [
             0.2222222222222222,
             "#7201a8"
            ],
            [
             0.3333333333333333,
             "#9c179e"
            ],
            [
             0.4444444444444444,
             "#bd3786"
            ],
            [
             0.5555555555555556,
             "#d8576b"
            ],
            [
             0.6666666666666666,
             "#ed7953"
            ],
            [
             0.7777777777777778,
             "#fb9f3a"
            ],
            [
             0.8888888888888888,
             "#fdca26"
            ],
            [
             1,
             "#f0f921"
            ]
           ],
           "sequentialminus": [
            [
             0,
             "#0d0887"
            ],
            [
             0.1111111111111111,
             "#46039f"
            ],
            [
             0.2222222222222222,
             "#7201a8"
            ],
            [
             0.3333333333333333,
             "#9c179e"
            ],
            [
             0.4444444444444444,
             "#bd3786"
            ],
            [
             0.5555555555555556,
             "#d8576b"
            ],
            [
             0.6666666666666666,
             "#ed7953"
            ],
            [
             0.7777777777777778,
             "#fb9f3a"
            ],
            [
             0.8888888888888888,
             "#fdca26"
            ],
            [
             1,
             "#f0f921"
            ]
           ]
          },
          "colorway": [
           "#636efa",
           "#EF553B",
           "#00cc96",
           "#ab63fa",
           "#FFA15A",
           "#19d3f3",
           "#FF6692",
           "#B6E880",
           "#FF97FF",
           "#FECB52"
          ],
          "font": {
           "color": "#2a3f5f"
          },
          "geo": {
           "bgcolor": "white",
           "lakecolor": "white",
           "landcolor": "#E5ECF6",
           "showlakes": true,
           "showland": true,
           "subunitcolor": "white"
          },
          "hoverlabel": {
           "align": "left"
          },
          "hovermode": "closest",
          "mapbox": {
           "style": "light"
          },
          "paper_bgcolor": "white",
          "plot_bgcolor": "#E5ECF6",
          "polar": {
           "angularaxis": {
            "gridcolor": "white",
            "linecolor": "white",
            "ticks": ""
           },
           "bgcolor": "#E5ECF6",
           "radialaxis": {
            "gridcolor": "white",
            "linecolor": "white",
            "ticks": ""
           }
          },
          "scene": {
           "xaxis": {
            "backgroundcolor": "#E5ECF6",
            "gridcolor": "white",
            "gridwidth": 2,
            "linecolor": "white",
            "showbackground": true,
            "ticks": "",
            "zerolinecolor": "white"
           },
           "yaxis": {
            "backgroundcolor": "#E5ECF6",
            "gridcolor": "white",
            "gridwidth": 2,
            "linecolor": "white",
            "showbackground": true,
            "ticks": "",
            "zerolinecolor": "white"
           },
           "zaxis": {
            "backgroundcolor": "#E5ECF6",
            "gridcolor": "white",
            "gridwidth": 2,
            "linecolor": "white",
            "showbackground": true,
            "ticks": "",
            "zerolinecolor": "white"
           }
          },
          "shapedefaults": {
           "line": {
            "color": "#2a3f5f"
           }
          },
          "ternary": {
           "aaxis": {
            "gridcolor": "white",
            "linecolor": "white",
            "ticks": ""
           },
           "baxis": {
            "gridcolor": "white",
            "linecolor": "white",
            "ticks": ""
           },
           "bgcolor": "#E5ECF6",
           "caxis": {
            "gridcolor": "white",
            "linecolor": "white",
            "ticks": ""
           }
          },
          "title": {
           "x": 0.05
          },
          "xaxis": {
           "automargin": true,
           "gridcolor": "white",
           "linecolor": "white",
           "ticks": "",
           "title": {
            "standoff": 15
           },
           "zerolinecolor": "white",
           "zerolinewidth": 2
          },
          "yaxis": {
           "automargin": true,
           "gridcolor": "white",
           "linecolor": "white",
           "ticks": "",
           "title": {
            "standoff": 15
           },
           "zerolinecolor": "white",
           "zerolinewidth": 2
          }
         }
        },
        "title": {
         "text": "Bar and Scatter Plot at 75% /confidence level"
        },
        "xaxis": {
         "title": {
          "text": "AC50 Value"
         }
        },
        "yaxis": {
         "title": {
          "text": "Index of Test molecules"
         }
        }
       }
      }
     },
     "metadata": {},
     "output_type": "display_data"
    }
   ],
   "source": [
    "import plotly.graph_objects as go\n",
    "\n",
    "# Create the bar plot\n",
    "bar = go.Bar(y=list(range(len(lower))), x=upper-lower, base=lower, orientation='h')\n",
    "\n",
    "# Plot the y_test values\n",
    "scatter = go.Scatter(y=list(range(len(y_test))), x=y_test, mode='markers', marker=dict(color='red'))\n",
    "\n",
    "# Create the layout\n",
    "layout = go.Layout(title='Bar and Scatter Plot at 75% /confidence level', xaxis=dict(title='AC50 Value'), yaxis=dict(title='Index of Test molecules'))\n",
    "\n",
    "# Create the figure and add the traces\n",
    "fig = go.Figure(data=[bar, scatter], layout=layout)\n",
    "\n",
    "# Show the plot\n",
    "fig.show()"
   ]
  },
  {
   "cell_type": "code",
   "execution_count": 40,
   "metadata": {},
   "outputs": [
    {
     "data": {
      "application/vnd.plotly.v1+json": {
       "config": {
        "plotlyServerURL": "https://plot.ly"
       },
       "data": [
        {
         "base": [
          20.75,
          3.2,
          3.2,
          25.075000000000003,
          16.475,
          40.175,
          11,
          16,
          11,
          34,
          3.2,
          13.375,
          49.375,
          46.425,
          30.825000000000003,
          26,
          11,
          151.65,
          11,
          11
         ],
         "orientation": "h",
         "type": "bar",
         "x": [
          842.25,
          1012.5499999999997,
          1012.5499999999997,
          1114.925,
          1123.525,
          507.59999999999985,
          1129,
          371,
          729,
          850.5749999999979,
          655.8499999999982,
          342.625,
          1090.625,
          816.575,
          868.5499999999977,
          837,
          1129,
          988.35,
          594,
          745.05
         ],
         "y": [
          0,
          1,
          2,
          3,
          4,
          5,
          6,
          7,
          8,
          9,
          10,
          11,
          12,
          13,
          14,
          15,
          16,
          17,
          18,
          19
         ]
        },
        {
         "marker": {
          "color": "red"
         },
         "mode": "markers",
         "type": "scatter",
         "x": [
          93,
          188,
          14,
          466,
          45,
          37,
          90,
          174,
          750,
          1190,
          223,
          57,
          145,
          270,
          159,
          866,
          345,
          610,
          24,
          62
         ],
         "y": [
          0,
          1,
          2,
          3,
          4,
          5,
          6,
          7,
          8,
          9,
          10,
          11,
          12,
          13,
          14,
          15,
          16,
          17,
          18,
          19
         ]
        }
       ],
       "layout": {
        "template": {
         "data": {
          "bar": [
           {
            "error_x": {
             "color": "#2a3f5f"
            },
            "error_y": {
             "color": "#2a3f5f"
            },
            "marker": {
             "line": {
              "color": "#E5ECF6",
              "width": 0.5
             },
             "pattern": {
              "fillmode": "overlay",
              "size": 10,
              "solidity": 0.2
             }
            },
            "type": "bar"
           }
          ],
          "barpolar": [
           {
            "marker": {
             "line": {
              "color": "#E5ECF6",
              "width": 0.5
             },
             "pattern": {
              "fillmode": "overlay",
              "size": 10,
              "solidity": 0.2
             }
            },
            "type": "barpolar"
           }
          ],
          "carpet": [
           {
            "aaxis": {
             "endlinecolor": "#2a3f5f",
             "gridcolor": "white",
             "linecolor": "white",
             "minorgridcolor": "white",
             "startlinecolor": "#2a3f5f"
            },
            "baxis": {
             "endlinecolor": "#2a3f5f",
             "gridcolor": "white",
             "linecolor": "white",
             "minorgridcolor": "white",
             "startlinecolor": "#2a3f5f"
            },
            "type": "carpet"
           }
          ],
          "choropleth": [
           {
            "colorbar": {
             "outlinewidth": 0,
             "ticks": ""
            },
            "type": "choropleth"
           }
          ],
          "contour": [
           {
            "colorbar": {
             "outlinewidth": 0,
             "ticks": ""
            },
            "colorscale": [
             [
              0,
              "#0d0887"
             ],
             [
              0.1111111111111111,
              "#46039f"
             ],
             [
              0.2222222222222222,
              "#7201a8"
             ],
             [
              0.3333333333333333,
              "#9c179e"
             ],
             [
              0.4444444444444444,
              "#bd3786"
             ],
             [
              0.5555555555555556,
              "#d8576b"
             ],
             [
              0.6666666666666666,
              "#ed7953"
             ],
             [
              0.7777777777777778,
              "#fb9f3a"
             ],
             [
              0.8888888888888888,
              "#fdca26"
             ],
             [
              1,
              "#f0f921"
             ]
            ],
            "type": "contour"
           }
          ],
          "contourcarpet": [
           {
            "colorbar": {
             "outlinewidth": 0,
             "ticks": ""
            },
            "type": "contourcarpet"
           }
          ],
          "heatmap": [
           {
            "colorbar": {
             "outlinewidth": 0,
             "ticks": ""
            },
            "colorscale": [
             [
              0,
              "#0d0887"
             ],
             [
              0.1111111111111111,
              "#46039f"
             ],
             [
              0.2222222222222222,
              "#7201a8"
             ],
             [
              0.3333333333333333,
              "#9c179e"
             ],
             [
              0.4444444444444444,
              "#bd3786"
             ],
             [
              0.5555555555555556,
              "#d8576b"
             ],
             [
              0.6666666666666666,
              "#ed7953"
             ],
             [
              0.7777777777777778,
              "#fb9f3a"
             ],
             [
              0.8888888888888888,
              "#fdca26"
             ],
             [
              1,
              "#f0f921"
             ]
            ],
            "type": "heatmap"
           }
          ],
          "heatmapgl": [
           {
            "colorbar": {
             "outlinewidth": 0,
             "ticks": ""
            },
            "colorscale": [
             [
              0,
              "#0d0887"
             ],
             [
              0.1111111111111111,
              "#46039f"
             ],
             [
              0.2222222222222222,
              "#7201a8"
             ],
             [
              0.3333333333333333,
              "#9c179e"
             ],
             [
              0.4444444444444444,
              "#bd3786"
             ],
             [
              0.5555555555555556,
              "#d8576b"
             ],
             [
              0.6666666666666666,
              "#ed7953"
             ],
             [
              0.7777777777777778,
              "#fb9f3a"
             ],
             [
              0.8888888888888888,
              "#fdca26"
             ],
             [
              1,
              "#f0f921"
             ]
            ],
            "type": "heatmapgl"
           }
          ],
          "histogram": [
           {
            "marker": {
             "pattern": {
              "fillmode": "overlay",
              "size": 10,
              "solidity": 0.2
             }
            },
            "type": "histogram"
           }
          ],
          "histogram2d": [
           {
            "colorbar": {
             "outlinewidth": 0,
             "ticks": ""
            },
            "colorscale": [
             [
              0,
              "#0d0887"
             ],
             [
              0.1111111111111111,
              "#46039f"
             ],
             [
              0.2222222222222222,
              "#7201a8"
             ],
             [
              0.3333333333333333,
              "#9c179e"
             ],
             [
              0.4444444444444444,
              "#bd3786"
             ],
             [
              0.5555555555555556,
              "#d8576b"
             ],
             [
              0.6666666666666666,
              "#ed7953"
             ],
             [
              0.7777777777777778,
              "#fb9f3a"
             ],
             [
              0.8888888888888888,
              "#fdca26"
             ],
             [
              1,
              "#f0f921"
             ]
            ],
            "type": "histogram2d"
           }
          ],
          "histogram2dcontour": [
           {
            "colorbar": {
             "outlinewidth": 0,
             "ticks": ""
            },
            "colorscale": [
             [
              0,
              "#0d0887"
             ],
             [
              0.1111111111111111,
              "#46039f"
             ],
             [
              0.2222222222222222,
              "#7201a8"
             ],
             [
              0.3333333333333333,
              "#9c179e"
             ],
             [
              0.4444444444444444,
              "#bd3786"
             ],
             [
              0.5555555555555556,
              "#d8576b"
             ],
             [
              0.6666666666666666,
              "#ed7953"
             ],
             [
              0.7777777777777778,
              "#fb9f3a"
             ],
             [
              0.8888888888888888,
              "#fdca26"
             ],
             [
              1,
              "#f0f921"
             ]
            ],
            "type": "histogram2dcontour"
           }
          ],
          "mesh3d": [
           {
            "colorbar": {
             "outlinewidth": 0,
             "ticks": ""
            },
            "type": "mesh3d"
           }
          ],
          "parcoords": [
           {
            "line": {
             "colorbar": {
              "outlinewidth": 0,
              "ticks": ""
             }
            },
            "type": "parcoords"
           }
          ],
          "pie": [
           {
            "automargin": true,
            "type": "pie"
           }
          ],
          "scatter": [
           {
            "fillpattern": {
             "fillmode": "overlay",
             "size": 10,
             "solidity": 0.2
            },
            "type": "scatter"
           }
          ],
          "scatter3d": [
           {
            "line": {
             "colorbar": {
              "outlinewidth": 0,
              "ticks": ""
             }
            },
            "marker": {
             "colorbar": {
              "outlinewidth": 0,
              "ticks": ""
             }
            },
            "type": "scatter3d"
           }
          ],
          "scattercarpet": [
           {
            "marker": {
             "colorbar": {
              "outlinewidth": 0,
              "ticks": ""
             }
            },
            "type": "scattercarpet"
           }
          ],
          "scattergeo": [
           {
            "marker": {
             "colorbar": {
              "outlinewidth": 0,
              "ticks": ""
             }
            },
            "type": "scattergeo"
           }
          ],
          "scattergl": [
           {
            "marker": {
             "colorbar": {
              "outlinewidth": 0,
              "ticks": ""
             }
            },
            "type": "scattergl"
           }
          ],
          "scattermapbox": [
           {
            "marker": {
             "colorbar": {
              "outlinewidth": 0,
              "ticks": ""
             }
            },
            "type": "scattermapbox"
           }
          ],
          "scatterpolar": [
           {
            "marker": {
             "colorbar": {
              "outlinewidth": 0,
              "ticks": ""
             }
            },
            "type": "scatterpolar"
           }
          ],
          "scatterpolargl": [
           {
            "marker": {
             "colorbar": {
              "outlinewidth": 0,
              "ticks": ""
             }
            },
            "type": "scatterpolargl"
           }
          ],
          "scatterternary": [
           {
            "marker": {
             "colorbar": {
              "outlinewidth": 0,
              "ticks": ""
             }
            },
            "type": "scatterternary"
           }
          ],
          "surface": [
           {
            "colorbar": {
             "outlinewidth": 0,
             "ticks": ""
            },
            "colorscale": [
             [
              0,
              "#0d0887"
             ],
             [
              0.1111111111111111,
              "#46039f"
             ],
             [
              0.2222222222222222,
              "#7201a8"
             ],
             [
              0.3333333333333333,
              "#9c179e"
             ],
             [
              0.4444444444444444,
              "#bd3786"
             ],
             [
              0.5555555555555556,
              "#d8576b"
             ],
             [
              0.6666666666666666,
              "#ed7953"
             ],
             [
              0.7777777777777778,
              "#fb9f3a"
             ],
             [
              0.8888888888888888,
              "#fdca26"
             ],
             [
              1,
              "#f0f921"
             ]
            ],
            "type": "surface"
           }
          ],
          "table": [
           {
            "cells": {
             "fill": {
              "color": "#EBF0F8"
             },
             "line": {
              "color": "white"
             }
            },
            "header": {
             "fill": {
              "color": "#C8D4E3"
             },
             "line": {
              "color": "white"
             }
            },
            "type": "table"
           }
          ]
         },
         "layout": {
          "annotationdefaults": {
           "arrowcolor": "#2a3f5f",
           "arrowhead": 0,
           "arrowwidth": 1
          },
          "autotypenumbers": "strict",
          "coloraxis": {
           "colorbar": {
            "outlinewidth": 0,
            "ticks": ""
           }
          },
          "colorscale": {
           "diverging": [
            [
             0,
             "#8e0152"
            ],
            [
             0.1,
             "#c51b7d"
            ],
            [
             0.2,
             "#de77ae"
            ],
            [
             0.3,
             "#f1b6da"
            ],
            [
             0.4,
             "#fde0ef"
            ],
            [
             0.5,
             "#f7f7f7"
            ],
            [
             0.6,
             "#e6f5d0"
            ],
            [
             0.7,
             "#b8e186"
            ],
            [
             0.8,
             "#7fbc41"
            ],
            [
             0.9,
             "#4d9221"
            ],
            [
             1,
             "#276419"
            ]
           ],
           "sequential": [
            [
             0,
             "#0d0887"
            ],
            [
             0.1111111111111111,
             "#46039f"
            ],
            [
             0.2222222222222222,
             "#7201a8"
            ],
            [
             0.3333333333333333,
             "#9c179e"
            ],
            [
             0.4444444444444444,
             "#bd3786"
            ],
            [
             0.5555555555555556,
             "#d8576b"
            ],
            [
             0.6666666666666666,
             "#ed7953"
            ],
            [
             0.7777777777777778,
             "#fb9f3a"
            ],
            [
             0.8888888888888888,
             "#fdca26"
            ],
            [
             1,
             "#f0f921"
            ]
           ],
           "sequentialminus": [
            [
             0,
             "#0d0887"
            ],
            [
             0.1111111111111111,
             "#46039f"
            ],
            [
             0.2222222222222222,
             "#7201a8"
            ],
            [
             0.3333333333333333,
             "#9c179e"
            ],
            [
             0.4444444444444444,
             "#bd3786"
            ],
            [
             0.5555555555555556,
             "#d8576b"
            ],
            [
             0.6666666666666666,
             "#ed7953"
            ],
            [
             0.7777777777777778,
             "#fb9f3a"
            ],
            [
             0.8888888888888888,
             "#fdca26"
            ],
            [
             1,
             "#f0f921"
            ]
           ]
          },
          "colorway": [
           "#636efa",
           "#EF553B",
           "#00cc96",
           "#ab63fa",
           "#FFA15A",
           "#19d3f3",
           "#FF6692",
           "#B6E880",
           "#FF97FF",
           "#FECB52"
          ],
          "font": {
           "color": "#2a3f5f"
          },
          "geo": {
           "bgcolor": "white",
           "lakecolor": "white",
           "landcolor": "#E5ECF6",
           "showlakes": true,
           "showland": true,
           "subunitcolor": "white"
          },
          "hoverlabel": {
           "align": "left"
          },
          "hovermode": "closest",
          "mapbox": {
           "style": "light"
          },
          "paper_bgcolor": "white",
          "plot_bgcolor": "#E5ECF6",
          "polar": {
           "angularaxis": {
            "gridcolor": "white",
            "linecolor": "white",
            "ticks": ""
           },
           "bgcolor": "#E5ECF6",
           "radialaxis": {
            "gridcolor": "white",
            "linecolor": "white",
            "ticks": ""
           }
          },
          "scene": {
           "xaxis": {
            "backgroundcolor": "#E5ECF6",
            "gridcolor": "white",
            "gridwidth": 2,
            "linecolor": "white",
            "showbackground": true,
            "ticks": "",
            "zerolinecolor": "white"
           },
           "yaxis": {
            "backgroundcolor": "#E5ECF6",
            "gridcolor": "white",
            "gridwidth": 2,
            "linecolor": "white",
            "showbackground": true,
            "ticks": "",
            "zerolinecolor": "white"
           },
           "zaxis": {
            "backgroundcolor": "#E5ECF6",
            "gridcolor": "white",
            "gridwidth": 2,
            "linecolor": "white",
            "showbackground": true,
            "ticks": "",
            "zerolinecolor": "white"
           }
          },
          "shapedefaults": {
           "line": {
            "color": "#2a3f5f"
           }
          },
          "ternary": {
           "aaxis": {
            "gridcolor": "white",
            "linecolor": "white",
            "ticks": ""
           },
           "baxis": {
            "gridcolor": "white",
            "linecolor": "white",
            "ticks": ""
           },
           "bgcolor": "#E5ECF6",
           "caxis": {
            "gridcolor": "white",
            "linecolor": "white",
            "ticks": ""
           }
          },
          "title": {
           "x": 0.05
          },
          "xaxis": {
           "automargin": true,
           "gridcolor": "white",
           "linecolor": "white",
           "ticks": "",
           "title": {
            "standoff": 15
           },
           "zerolinecolor": "white",
           "zerolinewidth": 2
          },
          "yaxis": {
           "automargin": true,
           "gridcolor": "white",
           "linecolor": "white",
           "ticks": "",
           "title": {
            "standoff": 15
           },
           "zerolinecolor": "white",
           "zerolinewidth": 2
          }
         }
        },
        "title": {
         "text": "Bar and Scatter Plot at 95% /confidence level"
        },
        "xaxis": {
         "title": {
          "text": "AC50 Value"
         }
        },
        "yaxis": {
         "title": {
          "text": "Index of Test molecules"
         }
        }
       }
      }
     },
     "metadata": {},
     "output_type": "display_data"
    }
   ],
   "source": [
    "import plotly.graph_objects as go\n",
    "\n",
    "# Create the bar plot\n",
    "bar = go.Bar(y=list(range(len(lower))), x=upper-lower, base=lower, orientation='h')\n",
    "\n",
    "# Plot the y_test values\n",
    "scatter = go.Scatter(y=list(range(len(y_test))), x=y_test, mode='markers', marker=dict(color='red'))\n",
    "\n",
    "# Create the layout\n",
    "layout = go.Layout(title='Bar and Scatter Plot at 95% /confidence level', xaxis=dict(title='AC50 Value'), yaxis=dict(title='Index of Test molecules'))\n",
    "\n",
    "# Create the figure and add the traces\n",
    "fig = go.Figure(data=[bar, scatter], layout=layout)\n",
    "\n",
    "# Show the plot\n",
    "fig.show()"
   ]
  },
  {
   "cell_type": "code",
   "execution_count": 27,
   "metadata": {},
   "outputs": [
    {
     "data": {
      "text/plain": [
       "['AATS5i',\n",
       " 'JGI3',\n",
       " 'MATS5s',\n",
       " 'Du',\n",
       " 'ATS6s',\n",
       " 'SwHBa',\n",
       " 'ATSC3v',\n",
       " 'BCUTp-1l',\n",
       " 'ATSC4i',\n",
       " 'TDB10e',\n",
       " 'GATS4c',\n",
       " 'JGI10',\n",
       " 'AATS2i',\n",
       " 'ASP-0',\n",
       " 'ATSC3i',\n",
       " 'GATS7e',\n",
       " 'TDB2u',\n",
       " 'ATSC2p',\n",
       " 'GATS6c',\n",
       " 'AMR',\n",
       " 'FPSA-3']"
      ]
     },
     "execution_count": 27,
     "metadata": {},
     "output_type": "execute_result"
    }
   ],
   "source": [
    "final_cols = feature_names[0:21]\n",
    "final_cols"
   ]
  },
  {
   "cell_type": "code",
   "execution_count": 28,
   "metadata": {},
   "outputs": [],
   "source": [
    "cols_df = pd.DataFrame(final_cols, columns=['Feature'])"
   ]
  },
  {
   "cell_type": "code",
   "execution_count": null,
   "metadata": {},
   "outputs": [],
   "source": [
    "# cols_df.to_csv('final_cols.csv', index=False)"
   ]
  },
  {
   "cell_type": "code",
   "execution_count": 33,
   "metadata": {},
   "outputs": [
    {
     "data": {
      "image/png": "[encoded data removed]",
      "text/plain": [
       "<Figure size 640x480 with 1 Axes>"
      ]
     },
     "metadata": {},
     "output_type": "display_data"
    }
   ],
   "source": [
    "import matplotlib.pyplot as plt\n",
    "import numpy as np\n",
    "\n",
    "# Create the bar plot\n",
    "plt.barh(range(len(lower)), upper-lower, left=lower)\n",
    "\n",
    "# Plot the y_test values\n",
    "plt.scatter(y_test, range(len(y_test)), color='red')\n",
    "\n",
    "# Show the plot\n",
    "plt.show()"
   ]
  },
  {
   "cell_type": "code",
   "execution_count": null,
   "metadata": {},
   "outputs": [
    {
     "data": {
      "application/vnd.plotly.v1+json": {
       "config": {
        "plotlyServerURL": "https://plot.ly"
       },
       "data": [
        {
         "base": [
          26.789999999999992,
          3.2,
          3.2,
          62,
          17,
          130.55499999999995,
          28,
          18,
          34,
          45,
          26,
          44,
          127,
          45,
          124.78999999999999,
          35,
          16,
          180,
          16,
          11
         ],
         "orientation": "h",
         "type": "bar",
         "x": [
          563.46,
          211.8,
          211.8,
          408,
          503,
          225.44500000000005,
          359,
          197,
          179,
          475,
          88,
          181,
          628,
          497,
          325.21000000000004,
          722,
          250,
          960,
          209,
          81
         ],
         "y": [
          0,
          1,
          2,
          3,
          4,
          5,
          6,
          7,
          8,
          9,
          10,
          11,
          12,
          13,
          14,
          15,
          16,
          17,
          18,
          19
         ]
        },
        {
         "marker": {
          "color": "red"
         },
         "mode": "markers",
         "type": "scatter",
         "x": [
          93,
          188,
          14,
          466,
          45,
          37,
          90,
          174,
          750,
          1190,
          223,
          57,
          145,
          270,
          159,
          866,
          345,
          610,
          24,
          62
         ],
         "y": [
          0,
          1,
          2,
          3,
          4,
          5,
          6,
          7,
          8,
          9,
          10,
          11,
          12,
          13,
          14,
          15,
          16,
          17,
          18,
          19
         ]
        }
       ],
       "layout": {
        "template": {
         "data": {
          "bar": [
           {
            "error_x": {
             "color": "#2a3f5f"
            },
            "error_y": {
             "color": "#2a3f5f"
            },
            "marker": {
             "line": {
              "color": "#E5ECF6",
              "width": 0.5
             },
             "pattern": {
              "fillmode": "overlay",
              "size": 10,
              "solidity": 0.2
             }
            },
            "type": "bar"
           }
          ],
          "barpolar": [
           {
            "marker": {
             "line": {
              "color": "#E5ECF6",
              "width": 0.5
             },
             "pattern": {
              "fillmode": "overlay",
              "size": 10,
              "solidity": 0.2
             }
            },
            "type": "barpolar"
           }
          ],
          "carpet": [
           {
            "aaxis": {
             "endlinecolor": "#2a3f5f",
             "gridcolor": "white",
             "linecolor": "white",
             "minorgridcolor": "white",
             "startlinecolor": "#2a3f5f"
            },
            "baxis": {
             "endlinecolor": "#2a3f5f",
             "gridcolor": "white",
             "linecolor": "white",
             "minorgridcolor": "white",
             "startlinecolor": "#2a3f5f"
            },
            "type": "carpet"
           }
          ],
          "choropleth": [
           {
            "colorbar": {
             "outlinewidth": 0,
             "ticks": ""
            },
            "type": "choropleth"
           }
          ],
          "contour": [
           {
            "colorbar": {
             "outlinewidth": 0,
             "ticks": ""
            },
            "colorscale": [
             [
              0,
              "#0d0887"
             ],
             [
              0.1111111111111111,
              "#46039f"
             ],
             [
              0.2222222222222222,
              "#7201a8"
             ],
             [
              0.3333333333333333,
              "#9c179e"
             ],
             [
              0.4444444444444444,
              "#bd3786"
             ],
             [
              0.5555555555555556,
              "#d8576b"
             ],
             [
              0.6666666666666666,
              "#ed7953"
             ],
             [
              0.7777777777777778,
              "#fb9f3a"
             ],
             [
              0.8888888888888888,
              "#fdca26"
             ],
             [
              1,
              "#f0f921"
             ]
            ],
            "type": "contour"
           }
          ],
          "contourcarpet": [
           {
            "colorbar": {
             "outlinewidth": 0,
             "ticks": ""
            },
            "type": "contourcarpet"
           }
          ],
          "heatmap": [
           {
            "colorbar": {
             "outlinewidth": 0,
             "ticks": ""
            },
            "colorscale": [
             [
              0,
              "#0d0887"
             ],
             [
              0.1111111111111111,
              "#46039f"
             ],
             [
              0.2222222222222222,
              "#7201a8"
             ],
             [
              0.3333333333333333,
              "#9c179e"
             ],
             [
              0.4444444444444444,
              "#bd3786"
             ],
             [
              0.5555555555555556,
              "#d8576b"
             ],
             [
              0.6666666666666666,
              "#ed7953"
             ],
             [
              0.7777777777777778,
              "#fb9f3a"
             ],
             [
              0.8888888888888888,
              "#fdca26"
             ],
             [
              1,
              "#f0f921"
             ]
            ],
            "type": "heatmap"
           }
          ],
          "heatmapgl": [
           {
            "colorbar": {
             "outlinewidth": 0,
             "ticks": ""
            },
            "colorscale": [
             [
              0,
              "#0d0887"
             ],
             [
              0.1111111111111111,
              "#46039f"
             ],
             [
              0.2222222222222222,
              "#7201a8"
             ],
             [
              0.3333333333333333,
              "#9c179e"
             ],
             [
              0.4444444444444444,
              "#bd3786"
             ],
             [
              0.5555555555555556,
              "#d8576b"
             ],
             [
              0.6666666666666666,
              "#ed7953"
             ],
             [
              0.7777777777777778,
              "#fb9f3a"
             ],
             [
              0.8888888888888888,
              "#fdca26"
             ],
             [
              1,
              "#f0f921"
             ]
            ],
            "type": "heatmapgl"
           }
          ],
          "histogram": [
           {
            "marker": {
             "pattern": {
              "fillmode": "overlay",
              "size": 10,
              "solidity": 0.2
             }
            },
            "type": "histogram"
           }
          ],
          "histogram2d": [
           {
            "colorbar": {
             "outlinewidth": 0,
             "ticks": ""
            },
            "colorscale": [
             [
              0,
              "#0d0887"
             ],
             [
              0.1111111111111111,
              "#46039f"
             ],
             [
              0.2222222222222222,
              "#7201a8"
             ],
             [
              0.3333333333333333,
              "#9c179e"
             ],
             [
              0.4444444444444444,
              "#bd3786"
             ],
             [
              0.5555555555555556,
              "#d8576b"
             ],
             [
              0.6666666666666666,
              "#ed7953"
             ],
             [
              0.7777777777777778,
              "#fb9f3a"
             ],
             [
              0.8888888888888888,
              "#fdca26"
             ],
             [
              1,
              "#f0f921"
             ]
            ],
            "type": "histogram2d"
           }
          ],
          "histogram2dcontour": [
           {
            "colorbar": {
             "outlinewidth": 0,
             "ticks": ""
            },
            "colorscale": [
             [
              0,
              "#0d0887"
             ],
             [
              0.1111111111111111,
              "#46039f"
             ],
             [
              0.2222222222222222,
              "#7201a8"
             ],
             [
              0.3333333333333333,
              "#9c179e"
             ],
             [
              0.4444444444444444,
              "#bd3786"
             ],
             [
              0.5555555555555556,
              "#d8576b"
             ],
             [
              0.6666666666666666,
              "#ed7953"
             ],
             [
              0.7777777777777778,
              "#fb9f3a"
             ],
             [
              0.8888888888888888,
              "#fdca26"
             ],
             [
              1,
              "#f0f921"
             ]
            ],
            "type": "histogram2dcontour"
           }
          ],
          "mesh3d": [
           {
            "colorbar": {
             "outlinewidth": 0,
             "ticks": ""
            },
            "type": "mesh3d"
           }
          ],
          "parcoords": [
           {
            "line": {
             "colorbar": {
              "outlinewidth": 0,
              "ticks": ""
             }
            },
            "type": "parcoords"
           }
          ],
          "pie": [
           {
            "automargin": true,
            "type": "pie"
           }
          ],
          "scatter": [
           {
            "fillpattern": {
             "fillmode": "overlay",
             "size": 10,
             "solidity": 0.2
            },
            "type": "scatter"
           }
          ],
          "scatter3d": [
           {
            "line": {
             "colorbar": {
              "outlinewidth": 0,
              "ticks": ""
             }
            },
            "marker": {
             "colorbar": {
              "outlinewidth": 0,
              "ticks": ""
             }
            },
            "type": "scatter3d"
           }
          ],
          "scattercarpet": [
           {
            "marker": {
             "colorbar": {
              "outlinewidth": 0,
              "ticks": ""
             }
            },
            "type": "scattercarpet"
           }
          ],
          "scattergeo": [
           {
            "marker": {
             "colorbar": {
              "outlinewidth": 0,
              "ticks": ""
             }
            },
            "type": "scattergeo"
           }
          ],
          "scattergl": [
           {
            "marker": {
             "colorbar": {
              "outlinewidth": 0,
              "ticks": ""
             }
            },
            "type": "scattergl"
           }
          ],
          "scattermapbox": [
           {
            "marker": {
             "colorbar": {
              "outlinewidth": 0,
              "ticks": ""
             }
            },
            "type": "scattermapbox"
           }
          ],
          "scatterpolar": [
           {
            "marker": {
             "colorbar": {
              "outlinewidth": 0,
              "ticks": ""
             }
            },
            "type": "scatterpolar"
           }
          ],
          "scatterpolargl": [
           {
            "marker": {
             "colorbar": {
              "outlinewidth": 0,
              "ticks": ""
             }
            },
            "type": "scatterpolargl"
           }
          ],
          "scatterternary": [
           {
            "marker": {
             "colorbar": {
              "outlinewidth": 0,
              "ticks": ""
             }
            },
            "type": "scatterternary"
           }
          ],
          "surface": [
           {
            "colorbar": {
             "outlinewidth": 0,
             "ticks": ""
            },
            "colorscale": [
             [
              0,
              "#0d0887"
             ],
             [
              0.1111111111111111,
              "#46039f"
             ],
             [
              0.2222222222222222,
              "#7201a8"
             ],
             [
              0.3333333333333333,
              "#9c179e"
             ],
             [
              0.4444444444444444,
              "#bd3786"
             ],
             [
              0.5555555555555556,
              "#d8576b"
             ],
             [
              0.6666666666666666,
              "#ed7953"
             ],
             [
              0.7777777777777778,
              "#fb9f3a"
             ],
             [
              0.8888888888888888,
              "#fdca26"
             ],
             [
              1,
              "#f0f921"
             ]
            ],
            "type": "surface"
           }
          ],
          "table": [
           {
            "cells": {
             "fill": {
              "color": "#EBF0F8"
             },
             "line": {
              "color": "white"
             }
            },
            "header": {
             "fill": {
              "color": "#C8D4E3"
             },
             "line": {
              "color": "white"
             }
            },
            "type": "table"
           }
          ]
         },
         "layout": {
          "annotationdefaults": {
           "arrowcolor": "#2a3f5f",
           "arrowhead": 0,
           "arrowwidth": 1
          },
          "autotypenumbers": "strict",
          "coloraxis": {
           "colorbar": {
            "outlinewidth": 0,
            "ticks": ""
           }
          },
          "colorscale": {
           "diverging": [
            [
             0,
             "#8e0152"
            ],
            [
             0.1,
             "#c51b7d"
            ],
            [
             0.2,
             "#de77ae"
            ],
            [
             0.3,
             "#f1b6da"
            ],
            [
             0.4,
             "#fde0ef"
            ],
            [
             0.5,
             "#f7f7f7"
            ],
            [
             0.6,
             "#e6f5d0"
            ],
            [
             0.7,
             "#b8e186"
            ],
            [
             0.8,
             "#7fbc41"
            ],
            [
             0.9,
             "#4d9221"
            ],
            [
             1,
             "#276419"
            ]
           ],
           "sequential": [
            [
             0,
             "#0d0887"
            ],
            [
             0.1111111111111111,
             "#46039f"
            ],
            [
             0.2222222222222222,
             "#7201a8"
            ],
            [
             0.3333333333333333,
             "#9c179e"
            ],
            [
             0.4444444444444444,
             "#bd3786"
            ],
            [
             0.5555555555555556,
             "#d8576b"
            ],
            [
             0.6666666666666666,
             "#ed7953"
            ],
            [
             0.7777777777777778,
             "#fb9f3a"
            ],
            [
             0.8888888888888888,
             "#fdca26"
            ],
            [
             1,
             "#f0f921"
            ]
           ],
           "sequentialminus": [
            [
             0,
             "#0d0887"
            ],
            [
             0.1111111111111111,
             "#46039f"
            ],
            [
             0.2222222222222222,
             "#7201a8"
            ],
            [
             0.3333333333333333,
             "#9c179e"
            ],
            [
             0.4444444444444444,
             "#bd3786"
            ],
            [
             0.5555555555555556,
             "#d8576b"
            ],
            [
             0.6666666666666666,
             "#ed7953"
            ],
            [
             0.7777777777777778,
             "#fb9f3a"
            ],
            [
             0.8888888888888888,
             "#fdca26"
            ],
            [
             1,
             "#f0f921"
            ]
           ]
          },
          "colorway": [
           "#636efa",
           "#EF553B",
           "#00cc96",
           "#ab63fa",
           "#FFA15A",
           "#19d3f3",
           "#FF6692",
           "#B6E880",
           "#FF97FF",
           "#FECB52"
          ],
          "font": {
           "color": "#2a3f5f"
          },
          "geo": {
           "bgcolor": "white",
           "lakecolor": "white",
           "landcolor": "#E5ECF6",
           "showlakes": true,
           "showland": true,
           "subunitcolor": "white"
          },
          "hoverlabel": {
           "align": "left"
          },
          "hovermode": "closest",
          "mapbox": {
           "style": "light"
          },
          "paper_bgcolor": "white",
          "plot_bgcolor": "#E5ECF6",
          "polar": {
           "angularaxis": {
            "gridcolor": "white",
            "linecolor": "white",
            "ticks": ""
           },
           "bgcolor": "#E5ECF6",
           "radialaxis": {
            "gridcolor": "white",
            "linecolor": "white",
            "ticks": ""
           }
          },
          "scene": {
           "xaxis": {
            "backgroundcolor": "#E5ECF6",
            "gridcolor": "white",
            "gridwidth": 2,
            "linecolor": "white",
            "showbackground": true,
            "ticks": "",
            "zerolinecolor": "white"
           },
           "yaxis": {
            "backgroundcolor": "#E5ECF6",
            "gridcolor": "white",
            "gridwidth": 2,
            "linecolor": "white",
            "showbackground": true,
            "ticks": "",
            "zerolinecolor": "white"
           },
           "zaxis": {
            "backgroundcolor": "#E5ECF6",
            "gridcolor": "white",
            "gridwidth": 2,
            "linecolor": "white",
            "showbackground": true,
            "ticks": "",
            "zerolinecolor": "white"
           }
          },
          "shapedefaults": {
           "line": {
            "color": "#2a3f5f"
           }
          },
          "ternary": {
           "aaxis": {
            "gridcolor": "white",
            "linecolor": "white",
            "ticks": ""
           },
           "baxis": {
            "gridcolor": "white",
            "linecolor": "white",
            "ticks": ""
           },
           "bgcolor": "#E5ECF6",
           "caxis": {
            "gridcolor": "white",
            "linecolor": "white",
            "ticks": ""
           }
          },
          "title": {
           "x": 0.05
          },
          "xaxis": {
           "automargin": true,
           "gridcolor": "white",
           "linecolor": "white",
           "ticks": "",
           "title": {
            "standoff": 15
           },
           "zerolinecolor": "white",
           "zerolinewidth": 2
          },
          "yaxis": {
           "automargin": true,
           "gridcolor": "white",
           "linecolor": "white",
           "ticks": "",
           "title": {
            "standoff": 15
           },
           "zerolinecolor": "white",
           "zerolinewidth": 2
          }
         }
        },
        "title": {
         "text": "Bar and Scatter Plot"
        },
        "xaxis": {
         "title": {
          "text": "Value"
         }
        },
        "yaxis": {
         "title": {
          "text": "Index"
         }
        }
       }
      }
     },
     "metadata": {},
     "output_type": "display_data"
    }
   ],
   "source": []
  }
 ],
 "metadata": {
  "kernelspec": {
   "display_name": "base",
   "language": "python",
   "name": "python3"
  },
  "language_info": {
   "codemirror_mode": {
    "name": "ipython",
    "version": 3
   },
   "file_extension": ".py",
   "mimetype": "text/x-python",
   "name": "python",
   "nbconvert_exporter": "python",
   "pygments_lexer": "ipython3",
   "version": "3.11.5"
  }
 },
 "nbformat": 4,
 "nbformat_minor": 2
}
